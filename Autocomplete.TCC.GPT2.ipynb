{
  "nbformat": 4,
  "nbformat_minor": 0,
  "metadata": {
    "accelerator": "GPU",
    "colab": {
      "name": "Autocomplete_TCC_GPT2.ipynb",
      "provenance": [],
      "collapsed_sections": [],
      "machine_shape": "hm"
    },
    "kernelspec": {
      "display_name": "Python 3",
      "language": "python",
      "name": "python3"
    },
    "language_info": {
      "codemirror_mode": {
        "name": "ipython",
        "version": 3
      },
      "file_extension": ".py",
      "mimetype": "text/x-python",
      "name": "python",
      "nbconvert_exporter": "python",
      "pygments_lexer": "ipython3",
      "version": "3.8.8"
    }
  },
  "cells": [
    {
      "cell_type": "markdown",
      "metadata": {
        "id": "VSBpzlH6JtfE"
      },
      "source": [
        "# Generating suggestions for writing source code in C# language based on NLP.\n",
        "\n",
        "\n",
        "## GPT-2 approach"
      ]
    },
    {
      "cell_type": "markdown",
      "metadata": {
        "id": "vhdi4xmdJtfI"
      },
      "source": [
        "#### This notebook was created and adapted for the work of generating suggestions using some ideas and codes as reference the notebook of the author \"Kayal, Arshabhi\" available at: \n",
        "https://towardsdatascience.com/train-gpt-2-in-your-own-language-fc6ad4d60171"
      ]
    },
    {
      "cell_type": "markdown",
      "metadata": {
        "id": "dNLwiFCOJtfJ"
      },
      "source": [
        "### Import libraries."
      ]
    },
    {
      "cell_type": "code",
      "metadata": {
        "colab": {
          "base_uri": "https://localhost:8080/"
        },
        "id": "AQYuJ0ydJ4Tu",
        "outputId": "82cd2105-13ad-462b-a50a-8f6dcd0365d2"
      },
      "source": [
        "!pip install tokenizers"
      ],
      "execution_count": null,
      "outputs": [
        {
          "output_type": "stream",
          "name": "stdout",
          "text": [
            "Collecting tokenizers\n",
            "  Downloading tokenizers-0.10.3-cp37-cp37m-manylinux_2_5_x86_64.manylinux1_x86_64.manylinux_2_12_x86_64.manylinux2010_x86_64.whl (3.3 MB)\n",
            "\u001b[K     |████████████████████████████████| 3.3 MB 9.7 MB/s \n",
            "\u001b[?25hInstalling collected packages: tokenizers\n",
            "Successfully installed tokenizers-0.10.3\n"
          ]
        }
      ]
    },
    {
      "cell_type": "code",
      "metadata": {
        "colab": {
          "base_uri": "https://localhost:8080/"
        },
        "id": "jNUT9X0nKGlN",
        "outputId": "6e2f94bc-5788-4c03-e512-f8faded0cd4e"
      },
      "source": [
        "!pip install transformers"
      ],
      "execution_count": null,
      "outputs": [
        {
          "output_type": "stream",
          "name": "stdout",
          "text": [
            "Collecting transformers\n",
            "  Downloading transformers-4.12.3-py3-none-any.whl (3.1 MB)\n",
            "\u001b[K     |████████████████████████████████| 3.1 MB 9.1 MB/s \n",
            "\u001b[?25hRequirement already satisfied: filelock in /usr/local/lib/python3.7/dist-packages (from transformers) (3.3.2)\n",
            "Requirement already satisfied: tqdm>=4.27 in /usr/local/lib/python3.7/dist-packages (from transformers) (4.62.3)\n",
            "Collecting huggingface-hub<1.0,>=0.1.0\n",
            "  Downloading huggingface_hub-0.1.2-py3-none-any.whl (59 kB)\n",
            "\u001b[K     |████████████████████████████████| 59 kB 9.4 MB/s \n",
            "\u001b[?25hRequirement already satisfied: numpy>=1.17 in /usr/local/lib/python3.7/dist-packages (from transformers) (1.19.5)\n",
            "Requirement already satisfied: importlib-metadata in /usr/local/lib/python3.7/dist-packages (from transformers) (4.8.2)\n",
            "Collecting sacremoses\n",
            "  Downloading sacremoses-0.0.46-py3-none-any.whl (895 kB)\n",
            "\u001b[K     |████████████████████████████████| 895 kB 77.6 MB/s \n",
            "\u001b[?25hCollecting pyyaml>=5.1\n",
            "  Downloading PyYAML-6.0-cp37-cp37m-manylinux_2_5_x86_64.manylinux1_x86_64.manylinux_2_12_x86_64.manylinux2010_x86_64.whl (596 kB)\n",
            "\u001b[K     |████████████████████████████████| 596 kB 57.9 MB/s \n",
            "\u001b[?25hRequirement already satisfied: packaging>=20.0 in /usr/local/lib/python3.7/dist-packages (from transformers) (21.2)\n",
            "Requirement already satisfied: tokenizers<0.11,>=0.10.1 in /usr/local/lib/python3.7/dist-packages (from transformers) (0.10.3)\n",
            "Requirement already satisfied: regex!=2019.12.17 in /usr/local/lib/python3.7/dist-packages (from transformers) (2019.12.20)\n",
            "Requirement already satisfied: requests in /usr/local/lib/python3.7/dist-packages (from transformers) (2.23.0)\n",
            "Requirement already satisfied: typing-extensions>=3.7.4.3 in /usr/local/lib/python3.7/dist-packages (from huggingface-hub<1.0,>=0.1.0->transformers) (3.10.0.2)\n",
            "Requirement already satisfied: pyparsing<3,>=2.0.2 in /usr/local/lib/python3.7/dist-packages (from packaging>=20.0->transformers) (2.4.7)\n",
            "Requirement already satisfied: zipp>=0.5 in /usr/local/lib/python3.7/dist-packages (from importlib-metadata->transformers) (3.6.0)\n",
            "Requirement already satisfied: idna<3,>=2.5 in /usr/local/lib/python3.7/dist-packages (from requests->transformers) (2.10)\n",
            "Requirement already satisfied: certifi>=2017.4.17 in /usr/local/lib/python3.7/dist-packages (from requests->transformers) (2021.10.8)\n",
            "Requirement already satisfied: chardet<4,>=3.0.2 in /usr/local/lib/python3.7/dist-packages (from requests->transformers) (3.0.4)\n",
            "Requirement already satisfied: urllib3!=1.25.0,!=1.25.1,<1.26,>=1.21.1 in /usr/local/lib/python3.7/dist-packages (from requests->transformers) (1.24.3)\n",
            "Requirement already satisfied: joblib in /usr/local/lib/python3.7/dist-packages (from sacremoses->transformers) (1.1.0)\n",
            "Requirement already satisfied: click in /usr/local/lib/python3.7/dist-packages (from sacremoses->transformers) (7.1.2)\n",
            "Requirement already satisfied: six in /usr/local/lib/python3.7/dist-packages (from sacremoses->transformers) (1.15.0)\n",
            "Installing collected packages: pyyaml, sacremoses, huggingface-hub, transformers\n",
            "  Attempting uninstall: pyyaml\n",
            "    Found existing installation: PyYAML 3.13\n",
            "    Uninstalling PyYAML-3.13:\n",
            "      Successfully uninstalled PyYAML-3.13\n",
            "Successfully installed huggingface-hub-0.1.2 pyyaml-6.0 sacremoses-0.0.46 transformers-4.12.3\n"
          ]
        }
      ]
    },
    {
      "cell_type": "code",
      "metadata": {
        "id": "TiGkGUtaJtfJ"
      },
      "source": [
        "import os\n",
        "import ntpath   \n",
        "from chardet import detect\n",
        "import nltk\n",
        "import re\n",
        "import h5py\n",
        "import numpy as np\n",
        "from toolz import unique\n",
        "import pickle\n",
        "import pandas as pd\n",
        "from tokenizers.models import BPE\n",
        "from tokenizers import Tokenizer\n",
        "from tokenizers.decoders import ByteLevel as ByteLevelDecoder\n",
        "from tokenizers.normalizers import NFKC, Sequence\n",
        "from tokenizers.pre_tokenizers import ByteLevel\n",
        "from tokenizers.trainers import BpeTrainer\n",
        "from pathlib import Path\n",
        "import codecs\n",
        "import tensorflow as tf\n",
        "from transformers import GPT2Config, TFGPT2LMHeadModel, GPT2Tokenizer, WEIGHTS_NAME, CONFIG_NAME\n",
        "from keras.callbacks import ModelCheckpoint\n",
        "from keras.models import Sequential, load_model\n",
        "import csv"
      ],
      "execution_count": null,
      "outputs": []
    },
    {
      "cell_type": "markdown",
      "metadata": {
        "id": "qQRj0TvQJtfK"
      },
      "source": [
        "#### Classes"
      ]
    },
    {
      "cell_type": "code",
      "metadata": {
        "id": "9rTe5mMjJtfK"
      },
      "source": [
        "class BPE_token(object):\n",
        "    \n",
        "    def __init__(self):\n",
        "        self.tokenizer = Tokenizer(BPE())\n",
        "        self.tokenizer.pre_tokenizer = ByteLevel()\n",
        "        self.tokenizer.normalizer = Sequence([\n",
        "            NFKC()\n",
        "        ])\n",
        "        self.tokenizer.decoder = ByteLevelDecoder()\n",
        "        \n",
        "    def bpe_train(self, paths):\n",
        "        trainer = BpeTrainer(show_progress=True, \n",
        "                             inital_alphabet=ByteLevel.alphabet(), \n",
        "                             special_tokens=[\"<s>\",\n",
        "                                             \"<pad>\",\n",
        "                                             \"</s>\",\n",
        "                                             \"<unk>\",\n",
        "                                             \"<mask>\"\n",
        "                                            ])\n",
        "        self.tokenizer.train(paths, trainer)\n",
        "\n",
        "    def save_tokenizer(self, location, prefix=None):\n",
        "        if not os.path.exists(location):\n",
        "            os.makedirs(location)\n",
        "        self.tokenizer.model.save(location, prefix)"
      ],
      "execution_count": null,
      "outputs": []
    },
    {
      "cell_type": "markdown",
      "metadata": {
        "id": "w9f_QyWLJtfL"
      },
      "source": [
        "### Generic functions."
      ]
    },
    {
      "cell_type": "code",
      "metadata": {
        "id": "Fp9kcJl6JtfM"
      },
      "source": [
        "def export_list_to_data_file(data, file_name):\n",
        "    \"\"\"\n",
        "    Description: Function to export data into data file.\n",
        "    :param data: Data to export,\n",
        "    :param file_name: file name to export.\n",
        "    :return: void.\n",
        "    \"\"\"\n",
        "\n",
        "    with open(file_name, 'wb') as filehandle:\n",
        "        pickle.dump(data, filehandle)"
      ],
      "execution_count": null,
      "outputs": []
    },
    {
      "cell_type": "code",
      "metadata": {
        "id": "vE-oltwpJtfM"
      },
      "source": [
        "def load_from_data_file(file_name):\n",
        "    \"\"\"\n",
        "    Description: Function to load data from file.\n",
        "    :param file_name: file name to load data from.\n",
        "    :return - Type(list): Data list.\n",
        "    \"\"\"\n",
        "    \n",
        "    data = []\n",
        "\n",
        "    with open(file_name, 'rb') as filehandle:\n",
        "        data = pickle.load(filehandle)\n",
        "\n",
        "    return data"
      ],
      "execution_count": null,
      "outputs": []
    },
    {
      "cell_type": "code",
      "metadata": {
        "id": "64PrbKDwJtfN"
      },
      "source": [
        "def print_info(title, message = None, new_line = False):\n",
        "    \"\"\"\n",
        "    Description: Function to print info on screen\n",
        "    :param title: Message title,\n",
        "    :param message: Message to print,\n",
        "    :param new_line: Indicates whether the first message will start with a line break or not.\n",
        "    \n",
        "    :return: void.\n",
        "    \"\"\"\n",
        "    \n",
        "    if new_line:\n",
        "        print('\\n')\n",
        "    \n",
        "    print(\"####################################\")\n",
        "    print(title)\n",
        "    print(\"####################################\")\n",
        "    \n",
        "    if message:\n",
        "        print(\"%s\\n\" % (message))"
      ],
      "execution_count": null,
      "outputs": []
    },
    {
      "cell_type": "code",
      "metadata": {
        "id": "Dgyp37HsJtfO"
      },
      "source": [
        "def get_sequence_of_numbers_from_string(str):\n",
        "    \"\"\"\n",
        "    Description: Function to extract all the sequence of numbers from the given string.\n",
        "    :param str: String to extract sequence of numbers.\n",
        "    \n",
        "    :return - Type(Array): Array with sequence of numbers.\n",
        "    \"\"\"\n",
        "    \n",
        "    array_numbers = re.findall(r'[0-9]+', str)\n",
        "    \n",
        "    return array_numbers"
      ],
      "execution_count": null,
      "outputs": []
    },
    {
      "cell_type": "code",
      "metadata": {
        "id": "ezMnFW4eJtfO"
      },
      "source": [
        "def replace_sequence_of_numbers_for_mask(str_to_replace, \n",
        "                                         array_sequence_numbers_to_search, \n",
        "                                         mask_to_replace):\n",
        "    \"\"\"\n",
        "    Description: Function to replace sequence of numbers for specific mask.\n",
        "    :param str_to_replace: String to replace sequence of numbers,\n",
        "    :param array_sequence_numbers_to_search: Sequence numbers to search for,\n",
        "    :param mask_to_replace: Mask to replace each sequence.\n",
        "    \n",
        "    :return - Type(String): String with sequence of numbers replaced by mask.\n",
        "    \"\"\"\n",
        "    \n",
        "    for number_sequence in array_sequence_numbers_to_search:\n",
        "        str_to_replace = re.sub(str(number_sequence), mask_to_replace, str_to_replace, 1)\n",
        "\n",
        "    return str_to_replace"
      ],
      "execution_count": null,
      "outputs": []
    },
    {
      "cell_type": "code",
      "metadata": {
        "id": "mA8qOTKBJtfO"
      },
      "source": [
        "def get_encoding_type(file):\n",
        "    \"\"\"\n",
        "    Description: Function to retrieve enconding type of file.\n",
        "    :param file: File to get enconding.\n",
        "    \n",
        "    :return - Type(String): String with enconding type of file.\n",
        "    \"\"\"\n",
        "        \n",
        "    with open(file, 'rb') as f:\n",
        "        rawdata = f.read()\n",
        "    return detect(rawdata)['encoding']"
      ],
      "execution_count": null,
      "outputs": []
    },
    {
      "cell_type": "code",
      "metadata": {
        "id": "VKBJ5UtWJtfP"
      },
      "source": [
        "def change_enconding(source_file, enconding):\n",
        "    \"\"\"\n",
        "    Description: Function to change enconding of file.\n",
        "    :param source_file: File to change enconding,\n",
        "    :param enconding: Enconding to replace in source_file.\n",
        "    \n",
        "    :return: void.\n",
        "    \"\"\"\n",
        "    \n",
        "    from_codec = get_encoding_type(source_file)\n",
        "    \n",
        "    try: \n",
        "        target_file = source_file.replace(ntpath.basename(source_file), \n",
        "                                      \"123%s\" % (ntpath.basename(source_file))) \n",
        "        \n",
        "        with open(source_file, \n",
        "                  'r', \n",
        "                  encoding=from_codec) as f, open(target_file, \n",
        "                                                  'w', \n",
        "                                                  encoding=enconding) as e:\n",
        "                text = f.read()\n",
        "                e.write(text)\n",
        "                f.close()\n",
        "\n",
        "        os.remove(source_file) \n",
        "        os.rename(target_file, source_file) \n",
        "        \n",
        "    except UnicodeDecodeError:\n",
        "        print(\"Decode error for file: '%s'\" % (source_file))\n",
        "    except UnicodeEncodeError:\n",
        "        print(\"Encode error for file: '%s'\" % (source_file))"
      ],
      "execution_count": null,
      "outputs": []
    },
    {
      "cell_type": "code",
      "metadata": {
        "id": "qJUSfsz5JtfP"
      },
      "source": [
        "def check_utf8_encode(file_name):\n",
        "    try:\n",
        "        content = codecs.open(file_name, encoding=\"utf-8\", errors=\"strict\").readlines()\n",
        "\n",
        "        if content is not None:\n",
        "            return True\n",
        "    except UnicodeDecodeError:\n",
        "        return False\n",
        "\n",
        "    return False"
      ],
      "execution_count": null,
      "outputs": []
    },
    {
      "cell_type": "code",
      "metadata": {
        "id": "F7tDGif5JtfP"
      },
      "source": [
        "def flatten_list(list_to_flatten):\n",
        "    \"\"\"\n",
        "    Description: Function to flatten the given list.\n",
        "    :param list_to_flatten: List to flatten.\n",
        "    \n",
        "    :returns - Type(List): Flat list.\n",
        "    \"\"\"   \n",
        "    \n",
        "    return [f for child_list in list_to_flatten for f in child_list]"
      ],
      "execution_count": null,
      "outputs": []
    },
    {
      "cell_type": "code",
      "metadata": {
        "id": "nMzuLxV5JtfQ"
      },
      "source": [
        "def remove_duplicate_items_from_list(list_to_remove_duplicates):\n",
        "    \"\"\"\n",
        "    Description: Function to remove duplicate itens from given list.\n",
        "    :param list_to_remove_duplicates: List to remove duplicates.\n",
        "    \n",
        "    :returns - Type(List): List without duplicates.\n",
        "    \"\"\"  \n",
        "    \n",
        "    return list(map(list, unique(map(tuple, list_to_remove_duplicates))))"
      ],
      "execution_count": null,
      "outputs": []
    },
    {
      "cell_type": "code",
      "metadata": {
        "id": "0cZLOjlcUS3p"
      },
      "source": [
        "def find_all_string_inside_another(complete_string, string_to_find):\n",
        "    \n",
        "    start = 0\n",
        "    \n",
        "    while True:\n",
        "        start = complete_string.find(string_to_find, start)\n",
        "        \n",
        "        if start == -1: \n",
        "            return\n",
        "        \n",
        "        yield start\n",
        "        \n",
        "        start += len(string_to_find)"
      ],
      "execution_count": null,
      "outputs": []
    },
    {
      "cell_type": "markdown",
      "metadata": {
        "id": "_PZfBV9PJtfQ"
      },
      "source": [
        "### Read C# repository functions.\n",
        "\n",
        "#### Filter C# class files from root repository downladed from: https://github.com/dotnet"
      ]
    },
    {
      "cell_type": "code",
      "metadata": {
        "id": "y2RCu6cAJtfQ"
      },
      "source": [
        "def get_all_c_sharp_complete_file_names_for_each_class(root_directory):\n",
        "    \"\"\"\n",
        "    Description: Function to get all complete name of files with extension \".cs\" (C# class).\n",
        "    :param root_directory: Root directory of files.\n",
        "    \n",
        "    :return - Type(List): List with all file names of C# repository.\n",
        "    \"\"\"\n",
        "    \n",
        "    C_SHARP_CLASS_FILE_EXTENSION = \".cs\"\n",
        "    \n",
        "    complete_name_of_files = []\n",
        "\n",
        "    for root, dirs, files in os.walk(root_directory):\n",
        "        for file in files:\n",
        "            if file.endswith(C_SHARP_CLASS_FILE_EXTENSION):\n",
        "                complete_name_of_files.append(os.path.join(root, file))\n",
        "    \n",
        "    return complete_name_of_files"
      ],
      "execution_count": null,
      "outputs": []
    },
    {
      "cell_type": "markdown",
      "metadata": {
        "id": "l0BUM3tYJtfQ"
      },
      "source": [
        "### Pre-processing functions."
      ]
    },
    {
      "cell_type": "code",
      "metadata": {
        "id": "QCcB2tTHJtfR"
      },
      "source": [
        "def tokenize_all_files(complete_file_names, path_to_save_tokens):\n",
        "    \"\"\"\n",
        "    Description: Function to tokenize all files and save into specific folder.\n",
        "    :param complete_file_names: All C# files list (Name of each file),\n",
        "    :param path_to_save_tokens: Path to save generated tokens.\n",
        "    \n",
        "    :returns - Void.\n",
        "    \"\"\"\n",
        "    \n",
        "    tokenizer = BPE_token()\n",
        "\n",
        "    tokenizer.bpe_train([c for c in complete_file_names if check_utf8_encode(c) == True])\n",
        "\n",
        "    tokenizer.save_tokenizer(path_to_save_tokens)"
      ],
      "execution_count": null,
      "outputs": []
    },
    {
      "cell_type": "markdown",
      "metadata": {
        "id": "ungzqw7rJtfR"
      },
      "source": [
        "### GPT-2 Functions"
      ]
    },
    {
      "cell_type": "code",
      "metadata": {
        "id": "xqapeVEaJtfR"
      },
      "source": [
        "def create_gpt2_model(tokens_path):\n",
        "    \n",
        "    tokenizer = GPT2Tokenizer.from_pretrained(tokens_path)\n",
        "    tokenizer.add_special_tokens({\n",
        "      \"eos_token\": \"</s>\",\n",
        "      \"bos_token\": \"<s>\",\n",
        "      \"unk_token\": \"<unk>\",\n",
        "      \"pad_token\": \"<pad>\",\n",
        "      \"mask_token\": \"<mask>\"\n",
        "    })\n",
        "\n",
        "    config = GPT2Config(\n",
        "      vocab_size=tokenizer.vocab_size,\n",
        "      bos_token_id=tokenizer.bos_token_id,\n",
        "      eos_token_id=tokenizer.eos_token_id\n",
        "    )\n",
        "\n",
        "    model = TFGPT2LMHeadModel(config)\n",
        "    \n",
        "    return (model, tokenizer)"
      ],
      "execution_count": null,
      "outputs": []
    },
    {
      "cell_type": "code",
      "metadata": {
        "id": "_CTlsA7_JtfR"
      },
      "source": [
        "def create_string_list_tokens(complete_file_names, tokenizer):\n",
        "    \n",
        "    single_string = ''\n",
        "    \n",
        "    for filename in complete_file_names:\n",
        "        with open(file_name, \"r\", encoding='utf-8') as f:\n",
        "            if check_utf8_encode(file_name) == True:\n",
        "                x = f.read()\n",
        "                single_string += x + tokenizer.eos_token\n",
        "\n",
        "    return tokenizer.encode(single_string)"
      ],
      "execution_count": null,
      "outputs": []
    },
    {
      "cell_type": "code",
      "metadata": {
        "id": "56oDT2GfJtfS"
      },
      "source": [
        "def create_tf_dataset_for_gpt2_training(tokens_list):\n",
        "    \n",
        "    examples = []\n",
        "    block_size = 100\n",
        "    BATCH_SIZE = 12\n",
        "    BUFFER_SIZE = 1000\n",
        "    \n",
        "    for i in range(0, len(tokens_list) - block_size + 1, block_size):\n",
        "        examples.append(tokens_list[i:i + block_size])\n",
        "    \n",
        "    inputs, labels = [], []\n",
        "    \n",
        "    for ex in examples:\n",
        "        inputs.append(ex[:-1])\n",
        "        labels.append(ex[1:])\n",
        "    \n",
        "    dataset = tf.data.Dataset.from_tensor_slices((inputs, labels))\n",
        "    dataset = dataset.shuffle(BUFFER_SIZE).batch(BATCH_SIZE, drop_remainder=True)\n",
        "    \n",
        "    return dataset"
      ],
      "execution_count": null,
      "outputs": []
    },
    {
      "cell_type": "code",
      "metadata": {
        "id": "GRbz3vbQJtfS"
      },
      "source": [
        "def config_model_to_gpt2(model):\n",
        "    \n",
        "    optimizer = tf.keras.optimizers.Adam(learning_rate=3e-5, epsilon=1e-08, clipnorm=1.0)\n",
        "    \n",
        "    loss = tf.keras.losses.SparseCategoricalCrossentropy(from_logits=True)\n",
        "    \n",
        "    metric = tf.keras.metrics.SparseCategoricalAccuracy('accuracy')\n",
        "\n",
        "    model.compile(optimizer=optimizer, loss=[loss, *[None] * model.config.n_layer], metrics=[metric])\n",
        "    \n",
        "    return model"
      ],
      "execution_count": null,
      "outputs": []
    },
    {
      "cell_type": "code",
      "metadata": {
        "id": "ZuxLPQes2Ow3"
      },
      "source": [
        "def create_checkpoint_gpt2(filepath_to_save_checkpoint):\n",
        "    checkpoint = ModelCheckpoint(filepath_to_save_checkpoint, monitor='logits_accuracy', verbose=1, save_best_only=True)\n",
        "    callbacks_list = [checkpoint]\n",
        "\n",
        "    return callbacks_list"
      ],
      "execution_count": null,
      "outputs": []
    },
    {
      "cell_type": "code",
      "metadata": {
        "id": "3BhIdrc1JtfS"
      },
      "source": [
        "def train_model_to_gpt2(model, dataset, num_epoch, batch_size, callbacks_list):\n",
        "    \n",
        "    history = model.fit(dataset, epochs=num_epoch, batch_size=batch_size, callbacks=callbacks_list)\n",
        "    return history"
      ],
      "execution_count": null,
      "outputs": []
    },
    {
      "cell_type": "code",
      "metadata": {
        "id": "tNukOEW8JtfS"
      },
      "source": [
        "def get_suggestions(previous_tokens, model, num_return_sequences, tokenizer):\n",
        "    \n",
        "    suggestions = []\n",
        "    \n",
        "    input_ids = tokenizer.encode(previous_tokens, return_tensors='tf')\n",
        "    \n",
        "    beam_output = model.generate(\n",
        "      input_ids,\n",
        "      max_length = 50,\n",
        "      num_beams = 1,\n",
        "      temperature = 0.3,\n",
        "      no_repeat_ngram_size = 0,\n",
        "      num_return_sequences = num_return_sequences,\n",
        "\n",
        "    )\n",
        "\n",
        "    for i in range(len(beam_output)):\n",
        "        suggestions.append(tokenizer.decode(beam_output[i], skip_special_tokens = True))\n",
        "\n",
        "    return suggestions"
      ],
      "execution_count": null,
      "outputs": []
    },
    {
      "cell_type": "code",
      "metadata": {
        "id": "LG3ogdjylIrD"
      },
      "source": [
        "def save_model_to_external_file(folder_to_save_model, model_to_save):\n",
        "    \n",
        "    output_dir = './' + folder_to_save_model + '/'\n",
        "    \n",
        "    model_to_save = model.module if hasattr(model, 'module') else model\n",
        "    \n",
        "    output_model_file = os.path.join(output_dir, WEIGHTS_NAME)\n",
        "    \n",
        "    output_config_file = os.path.join(output_dir, CONFIG_NAME)\n",
        "    \n",
        "    model.save_pretrained(output_dir)\n",
        "    \n",
        "    model_to_save.config.to_json_file(output_config_file)\n",
        "    \n",
        "    tokenizer.save_pretrained(output_dir)"
      ],
      "execution_count": null,
      "outputs": []
    },
    {
      "cell_type": "markdown",
      "metadata": {
        "id": "1BY5IgTiT_0u"
      },
      "source": [
        "### Format result for possible code that compiles"
      ]
    },
    {
      "cell_type": "code",
      "metadata": {
        "id": "qMyiCLwiUixB"
      },
      "source": [
        "def select_type_code(suggestion):\n",
        "\n",
        "    for_method = \"(\"\n",
        "    for_class = \" Class\"\n",
        "    for_property = \"{\"\n",
        "\n",
        "    # Method\n",
        "    positions_method = [pos for pos, string in enumerate(suggestion) if string == for_method]\n",
        "    first_position_method = len(suggestion) + 1\n",
        "\n",
        "    if len(positions_method) > 0:\n",
        "        first_position_method = positions_method[0]\n",
        "\n",
        "    # Class\n",
        "    positions_class = list(find_all_string_inside_another(suggestion, for_class))\n",
        "    first_position_class = len(suggestion) + 1\n",
        "\n",
        "    if len(positions_class) > 0:\n",
        "        first_position_class = positions_class[0]\n",
        "\n",
        "    first_position_property = len(suggestion) + 1\n",
        "\n",
        "    # Property\n",
        "    positions_property = [pos for pos, string in enumerate(suggestion) if string == for_property]\n",
        "    if len(positions_property) > 0:\n",
        "        first_position_property = positions_property[0]\n",
        "\n",
        "    if len(positions_method) > 0 and first_position_method < first_position_class and first_position_method < first_position_property:\n",
        "        return 1\n",
        "    elif len(positions_class) > 0 and first_position_class < first_position_method and first_position_class < first_position_property:\n",
        "        return 2\n",
        "    elif len(positions_property) > 0 and first_position_property < first_position_method and first_position_property < first_position_class:\n",
        "        return 3\n",
        "    return 0\n"
      ],
      "execution_count": null,
      "outputs": []
    },
    {
      "cell_type": "code",
      "metadata": {
        "id": "OqbFeI_vfsI-"
      },
      "source": [
        "def remove_comments_from_suggestion(suggestion):\n",
        "\n",
        "    suggestion_formated = \"\"\n",
        "    suggestion_line_by_line = suggestion.split('\\n')\n",
        "\n",
        "    for s in suggestion_line_by_line:\n",
        "\n",
        "        if not(s.startswith(\"//\") or s.startswith(\"/*\") or s.endswith(\"*/\")):\n",
        "            suggestion_formated += s + \"\\n\"\n",
        "\n",
        "    return suggestion_formated"
      ],
      "execution_count": null,
      "outputs": []
    },
    {
      "cell_type": "code",
      "metadata": {
        "id": "baSpQQa62ESo"
      },
      "source": [
        "def format_suggestion(previous_tokens, suggestion):\n",
        "    try:\n",
        "        suggestion = remove_comments_from_suggestion(suggestion)\n",
        "        return '\\n'.join(suggestion.split('\\n')[:2])\n",
        "\n",
        "    except:\n",
        "        # Invalid suggestion\n",
        "        return \"\"\n",
        "\n",
        "    # Invalid suggestion\n",
        "    return \"\""
      ],
      "execution_count": null,
      "outputs": []
    },
    {
      "cell_type": "markdown",
      "metadata": {
        "id": "u8pq1lUxmmvC"
      },
      "source": [
        "### Generate common C# data to test suggestions"
      ]
    },
    {
      "cell_type": "code",
      "metadata": {
        "id": "ERXQJmqzmmaG"
      },
      "source": [
        "def load_csv_to_test_previous_tokens_list(csv_file_path):\n",
        "    dataframe_tokens_test = pd.read_csv(csv_file_path, delimiter=\";\", header=None)\n",
        "\n",
        "    previous_tokens_list = []\n",
        "\n",
        "    for index, row in dataframe_tokens_test.iterrows():\n",
        "        token = \"\"\n",
        "        for column in range(len(dataframe_tokens_test.columns.tolist())):\n",
        "            if type(row[column]) == str:\n",
        "                token += row[column] + \" \"\n",
        "\n",
        "        previous_tokens_list.append(token[:-1])\n",
        "\n",
        "    return previous_tokens_list"
      ],
      "execution_count": null,
      "outputs": []
    },
    {
      "cell_type": "code",
      "metadata": {
        "id": "7xdItzzDVWzA"
      },
      "source": [
        "def save_suggestions_to_csv_file(file_path_csv, all_suggestions):\n",
        "    data_to_save_in_csv = []\n",
        "\n",
        "    for suggestions in all_suggestions:\n",
        "        for i in range(len(suggestions[1])):\n",
        "            data_to_save_in_csv.append([suggestions[0], format_suggestion(suggestions[0], suggestions[1][i])])\n",
        "\n",
        "    with open(file_path_csv, 'w') as f:\n",
        "      \n",
        "        write = csv.writer(f)      \n",
        "        write.writerows(data_to_save_in_csv)"
      ],
      "execution_count": null,
      "outputs": []
    },
    {
      "cell_type": "markdown",
      "metadata": {
        "id": "SPNzoK9tJtfT"
      },
      "source": [
        "### Main flow"
      ]
    },
    {
      "cell_type": "markdown",
      "metadata": {
        "id": "CdOikWDT3wQ8"
      },
      "source": [
        "#### Mounting Google Drive (For Colab)"
      ]
    },
    {
      "cell_type": "code",
      "metadata": {
        "colab": {
          "base_uri": "https://localhost:8080/"
        },
        "id": "3QvZAotO2ax_",
        "outputId": "fac97d17-ef8c-48bf-da28-808a6448b832"
      },
      "source": [
        "from google.colab import drive\n",
        "drive.mount('/content/drive')"
      ],
      "execution_count": null,
      "outputs": [
        {
          "output_type": "stream",
          "name": "stdout",
          "text": [
            "Mounted at /content/drive\n"
          ]
        }
      ]
    },
    {
      "cell_type": "markdown",
      "metadata": {
        "id": "QZlxq4tD9irz"
      },
      "source": [
        "#### Create constants for directories (Local Jupyter Notebook or Colab)"
      ]
    },
    {
      "cell_type": "code",
      "metadata": {
        "id": "tBtDSZbx9rC6"
      },
      "source": [
        "PATH_TO_TOKENS_LIST = ''\n",
        "DIRECTORY_GENERATED_TOKENS = ''\n",
        "PATH_CHECKPOINT_TRAIN = ''\n",
        "DIRECTORY_TF_DATASET = ''\n",
        "PATH_TO_TEST_FILE_1_WORD = ''\n",
        "\n",
        "executing_in_colab = True\n",
        "\n",
        "if executing_in_colab == True:\n",
        "    PATH_TO_TOKENS_LIST = '/content/drive/MyDrive/TCC/GPT2/tokens_list.data'\n",
        "    DIRECTORY_GENERATED_TOKENS = '/content/drive/MyDrive/TCC/GPT2/'\n",
        "    PATH_CHECKPOINT_TRAIN = '/content/drive/MyDrive/TCC/GPT2/CheckPoint'\n",
        "    DIRECTORY_TF_DATASET = '/content/drive/MyDrive/TCC/GPT2/TFDataset'\n",
        "    PATH_TO_TEST_FILE_1_WORD = '/content/drive/MyDrive/TCC/TestFiles/previous_tokens_for_test_1_word.csv'\n",
        "    PATH_TO_TEST_FILE_2_WORD = '/content/drive/MyDrive/TCC/TestFiles/previous_tokens_for_test_2_word.csv'\n",
        "    PATH_TO_TEST_FILE_3_WORD = '/content/drive/MyDrive/TCC/TestFiles/previous_tokens_for_test_3_word.csv'\n",
        "    PATH_TO_TEST_FILE_4_WORD = '/content/drive/MyDrive/TCC/TestFiles/previous_tokens_for_test_4_word.csv'\n",
        "    PATH_TO_SAVE_SUGGESTIONS_1_WORD = '/content/drive/MyDrive/TCC/TestFiles/suggestions_1_word.csv'\n",
        "    PATH_TO_SAVE_SUGGESTIONS_2_WORD = '/content/drive/MyDrive/TCC/TestFiles/suggestions_2_word.csv'\n",
        "    PATH_TO_SAVE_SUGGESTIONS_3_WORD = '/content/drive/MyDrive/TCC/TestFiles/suggestions_3_word.csv'\n",
        "    PATH_TO_SAVE_SUGGESTIONS_4_WORD = '/content/drive/MyDrive/TCC/TestFiles/suggestions_4_word.csv'\n",
        "    PATH_TO_SAVE_SUGGESTIONS_DATA_1_WORD = '/content/drive/MyDrive/TCC/TestFiles/suggestions_1_word.data'\n",
        "    PATH_TO_SAVE_SUGGESTIONS_DATA_2_WORD = '/content/drive/MyDrive/TCC/TestFiles/suggestions_2_word.data'\n",
        "    PATH_TO_SAVE_SUGGESTIONS_DATA_3_WORD = '/content/drive/MyDrive/TCC/TestFiles/suggestions_3_word.data'\n",
        "    PATH_TO_SAVE_SUGGESTIONS_DATA_4_WORD = '/content/drive/MyDrive/TCC/TestFiles/suggestions_4_word.data'\n",
        "else:\n",
        "    PATH_TO_TOKENS_LIST = 'tokens_list.data'\n",
        "    DIRECTORY_GENERATED_TOKENS = 'GPT2_Generated_Tokens'\n",
        "    PATH_CHECKPOINT_TRAIN = 'CheckPoint'\n",
        "    DIRECTORY_TF_DATASET = 'TFDataset'\n",
        "    PATH_TO_TEST_FILE_1_WORD = 'previous_tokens_for_test_1_word.csv'\n",
        "    PATH_TO_TEST_FILE_2_WORD = 'previous_tokens_for_test_2_word.csv'\n",
        "    PATH_TO_TEST_FILE_3_WORD = 'previous_tokens_for_test_3_word.csv'\n",
        "    PATH_TO_TEST_FILE_4_WORD = 'previous_tokens_for_test_4_word.csv'\n",
        "    PATH_TO_SAVE_SUGGESTIONS_1_WORD = 'suggestions_1_word.csv'\n",
        "    PATH_TO_SAVE_SUGGESTIONS_2_WORD = 'suggestions_2_word.csv'\n",
        "    PATH_TO_SAVE_SUGGESTIONS_3_WORD = 'suggestions_3_word.csv'\n",
        "    PATH_TO_SAVE_SUGGESTIONS_4_WORD = 'suggestions_4_word.csv'\n",
        "    PATH_TO_SAVE_SUGGESTIONS_DATA_1_WORD = 'suggestions_1_word.data'\n",
        "    PATH_TO_SAVE_SUGGESTIONS_DATA_2_WORD = 'suggestions_2_word.data'\n",
        "    PATH_TO_SAVE_SUGGESTIONS_DATA_3_WORD = 'suggestions_3_word.data'\n",
        "    PATH_TO_SAVE_SUGGESTIONS_DATA_4_WORD = 'suggestions_4_word.data'\n"
      ],
      "execution_count": null,
      "outputs": []
    },
    {
      "cell_type": "markdown",
      "metadata": {
        "id": "W4b1n2dPJtfT"
      },
      "source": [
        "#### Read files"
      ]
    },
    {
      "cell_type": "code",
      "metadata": {
        "id": "ziA_Gw8DJtfT"
      },
      "source": [
        "# Define constants.\n",
        "ROOT_DIRECTORY = \"D:\\DsTCC\"\n",
        "\n",
        "# Get all file names.\n",
        "complete_file_names = get_all_c_sharp_complete_file_names_for_each_class(ROOT_DIRECTORY)\n",
        "\n",
        "# Print first 10 files.\n",
        "print_info(\"First 10 files:\")\n",
        "\n",
        "for file_name in complete_file_names[:10]:\n",
        "    print(ntpath.basename(file_name)) \n",
        "\n",
        "# Print total number of files.\n",
        "print_info(\"Number of files for GPT-2:\", new_line=True)\n",
        "print(\"%s files.\" % (len(complete_file_names)))"
      ],
      "execution_count": null,
      "outputs": []
    },
    {
      "cell_type": "markdown",
      "metadata": {
        "id": "L8qHax6iJtfU"
      },
      "source": [
        "#### Tokenize all files."
      ]
    },
    {
      "cell_type": "code",
      "metadata": {
        "id": "jzmDcOObJtfU",
        "scrolled": true
      },
      "source": [
        "tokens = tokenize_all_files(complete_file_names, DIRECTORY_GENERATED_TOKENS)"
      ],
      "execution_count": null,
      "outputs": []
    },
    {
      "cell_type": "markdown",
      "metadata": {
        "id": "WiF5RlvHJtfU"
      },
      "source": [
        "#### Create GPT-2 model and vocabulary for tokens."
      ]
    },
    {
      "cell_type": "code",
      "metadata": {
        "colab": {
          "base_uri": "https://localhost:8080/"
        },
        "id": "jSFokriMJtfU",
        "outputId": "fa077602-bb2c-497b-ab6d-b9de0c199cd7"
      },
      "source": [
        "(model, tokenizer) = create_gpt2_model(DIRECTORY_GENERATED_TOKENS)"
      ],
      "execution_count": null,
      "outputs": [
        {
          "output_type": "stream",
          "name": "stderr",
          "text": [
            "file /content/drive/MyDrive/TCC/GPT2/config.json not found\n"
          ]
        }
      ]
    },
    {
      "cell_type": "markdown",
      "metadata": {
        "id": "VeNF6iSJJtfV"
      },
      "source": [
        "#### Create tokens list"
      ]
    },
    {
      "cell_type": "code",
      "metadata": {
        "id": "GXFEB5ZNJtfV"
      },
      "source": [
        "tokens_list = create_string_list_tokens(complete_file_names, tokenizer)"
      ],
      "execution_count": null,
      "outputs": []
    },
    {
      "cell_type": "markdown",
      "metadata": {
        "id": "pE9IeCe9ajkm"
      },
      "source": [
        "#### Export tokens_list to backup file."
      ]
    },
    {
      "cell_type": "code",
      "metadata": {
        "id": "pShM4BCtJtfV"
      },
      "source": [
        "export_list_to_data_file(tokens_list, 'tokens_list.data')"
      ],
      "execution_count": null,
      "outputs": []
    },
    {
      "cell_type": "markdown",
      "metadata": {
        "id": "X8TBHx4BavVh"
      },
      "source": [
        "#### Load tokens_list from backup file."
      ]
    },
    {
      "cell_type": "code",
      "metadata": {
        "id": "Fbq6VJHEJtfV"
      },
      "source": [
        "tokens_list = load_from_data_file(PATH_TO_TOKENS_LIST)"
      ],
      "execution_count": null,
      "outputs": []
    },
    {
      "cell_type": "markdown",
      "metadata": {
        "id": "_6ex0F0ba4Ra"
      },
      "source": [
        "#### Show words positions of created list"
      ]
    },
    {
      "cell_type": "code",
      "metadata": {
        "id": "MzFvZPzDJtfV"
      },
      "source": [
        "print_info(\"First 5 tokens positions from list:\")\n",
        "\n",
        "for token in tokens_list[:5]:\n",
        "    print(\"Position in vocabulary: %s\" % (token))"
      ],
      "execution_count": null,
      "outputs": []
    },
    {
      "cell_type": "markdown",
      "metadata": {
        "id": "crcyF35OJtfV"
      },
      "source": [
        "#### Create tensor flow dataset for training"
      ]
    },
    {
      "cell_type": "code",
      "metadata": {
        "id": "gYHwY5ZcJtfV"
      },
      "source": [
        "dataset = create_tf_dataset_for_gpt2_training(tokens_list)"
      ],
      "execution_count": null,
      "outputs": []
    },
    {
      "cell_type": "markdown",
      "metadata": {
        "id": "ZWCzYgV-_Yal"
      },
      "source": [
        "#### Export tensorflow dataset to backup file"
      ]
    },
    {
      "cell_type": "code",
      "metadata": {
        "id": "zwrnv2kIqUAQ"
      },
      "source": [
        "tf.data.experimental.save(dataset, DIRECTORY_TF_DATASET)"
      ],
      "execution_count": null,
      "outputs": []
    },
    {
      "cell_type": "markdown",
      "metadata": {
        "id": "jEK3y84sdVcy"
      },
      "source": [
        "Load tensorflow dataset from backup file"
      ]
    },
    {
      "cell_type": "code",
      "metadata": {
        "id": "vDFxSNgkdZDw"
      },
      "source": [
        "dataset = tf.data.experimental.load(DIRECTORY_TF_DATASET)"
      ],
      "execution_count": null,
      "outputs": []
    },
    {
      "cell_type": "markdown",
      "metadata": {
        "id": "2EatRAf-JtfW"
      },
      "source": [
        "#### Configure model and compile"
      ]
    },
    {
      "cell_type": "code",
      "metadata": {
        "id": "BGBx6eesJtfW"
      },
      "source": [
        "model = config_model_to_gpt2(model)"
      ],
      "execution_count": null,
      "outputs": []
    },
    {
      "cell_type": "markdown",
      "metadata": {
        "id": "5fBb7mxqJtfW"
      },
      "source": [
        "#### Train model"
      ]
    },
    {
      "cell_type": "code",
      "metadata": {
        "id": "r0p0azUDJtfW"
      },
      "source": [
        "NUM_EPOCH = 5\n",
        "BATCH_SIZE = 10\n",
        "\n",
        "callbacks_list = create_checkpoint_gpt2(PATH_CHECKPOINT_TRAIN)\n",
        "\n",
        "history = train_model_to_gpt2(model, dataset, NUM_EPOCH, BATCH_SIZE, callbacks_list)"
      ],
      "execution_count": null,
      "outputs": []
    },
    {
      "cell_type": "markdown",
      "metadata": {
        "id": "7omhSPAzl9Wp"
      },
      "source": [
        "#### Export model to backup files"
      ]
    },
    {
      "cell_type": "code",
      "metadata": {
        "id": "as43xTM6lvwl"
      },
      "source": [
        "FOLDER_TO_SAVE_MODEL = 'model_backup'\n",
        "save_model_to_external_file(FOLDER_TO_SAVE_MODEL, model)"
      ],
      "execution_count": null,
      "outputs": []
    },
    {
      "cell_type": "markdown",
      "metadata": {
        "id": "5s0v01Jdbgyy"
      },
      "source": [
        "#### Load model from backup"
      ]
    },
    {
      "cell_type": "code",
      "metadata": {
        "colab": {
          "base_uri": "https://localhost:8080/"
        },
        "id": "_qGgwh4-bkmJ",
        "outputId": "15681564-3c92-4cd3-d47e-906df8a6fe92"
      },
      "source": [
        "model.load_weights(PATH_CHECKPOINT_TRAIN)"
      ],
      "execution_count": null,
      "outputs": [
        {
          "output_type": "execute_result",
          "data": {
            "text/plain": [
              "<tensorflow.python.training.tracking.util.CheckpointLoadStatus at 0x7f31ada0a650>"
            ]
          },
          "metadata": {},
          "execution_count": 36
        }
      ]
    },
    {
      "cell_type": "markdown",
      "metadata": {
        "id": "cn-9IDTcJtfW"
      },
      "source": [
        "#### Get suggestions for the most common C# word"
      ]
    },
    {
      "cell_type": "code",
      "metadata": {
        "colab": {
          "base_uri": "https://localhost:8080/"
        },
        "id": "jUv8N_NzJtfW",
        "outputId": "a70e3ce2-05f5-4bd9-f4ca-9affb33737ad"
      },
      "source": [
        "previous_tokens = 'private static void'\n",
        "num_return_sequences = 1\n",
        "suggestions = get_suggestions(previous_tokens, model, num_return_sequences, tokenizer)\n",
        "\n",
        "for i in range(len(suggestions)):\n",
        "    print_info(\"Suggestion %s:\" % (i + 1), format_suggestion(previous_tokens, suggestions[i]))"
      ],
      "execution_count": null,
      "outputs": [
        {
          "output_type": "stream",
          "name": "stderr",
          "text": [
            "Setting `pad_token_id` to 2 (first `eos_token_id`) to generate sequence\n"
          ]
        },
        {
          "output_type": "stream",
          "name": "stdout",
          "text": [
            "####################################\n",
            "Suggestion 1:\n",
            "####################################\n",
            "private static void ResolveExecutablePath(ref string executable, ref string args)\n",
            "        {\n",
            "\n"
          ]
        }
      ]
    },
    {
      "cell_type": "markdown",
      "metadata": {
        "id": "lUEaGTca3GtY"
      },
      "source": [
        "### Get suggestions for 1 word:"
      ]
    },
    {
      "cell_type": "code",
      "metadata": {
        "id": "EdCfq_-gBHgS"
      },
      "source": [
        "all_suggestions_1_word = load_from_data_file(PATH_TO_SAVE_SUGGESTIONS_DATA_1_WORD)"
      ],
      "execution_count": null,
      "outputs": []
    },
    {
      "cell_type": "code",
      "metadata": {
        "id": "hD1IpmaQuHav"
      },
      "source": [
        "num_return_sequences = 1\n",
        "previous_tokens_to_test = load_csv_to_test_previous_tokens_list(PATH_TO_TEST_FILE_1_WORD)\n",
        "\n",
        "all_suggestions_1_word = []\n",
        "\n",
        "for previous_tokens in previous_tokens_to_test:\n",
        "    all_suggestions_1_word.append((previous_tokens, get_suggestions(previous_tokens, model, num_return_sequences, tokenizer)))"
      ],
      "execution_count": null,
      "outputs": []
    },
    {
      "cell_type": "code",
      "metadata": {
        "id": "4cGFKhKwJFpq"
      },
      "source": [
        "save_suggestions_to_csv_file(PATH_TO_SAVE_SUGGESTIONS_1_WORD, all_suggestions_1_word)"
      ],
      "execution_count": null,
      "outputs": []
    },
    {
      "cell_type": "code",
      "metadata": {
        "id": "EbKZ74yn00MV"
      },
      "source": [
        "export_list_to_data_file(all_suggestions_1_word, PATH_TO_SAVE_SUGGESTIONS_DATA_1_WORD)"
      ],
      "execution_count": null,
      "outputs": []
    },
    {
      "cell_type": "code",
      "metadata": {
        "colab": {
          "base_uri": "https://localhost:8080/"
        },
        "id": "HjXuqIG_DYMb",
        "outputId": "9df037bc-ed53-4cc7-dd2e-ce1f4de255ec"
      },
      "source": [
        "for suggestions in all_suggestions_1_word:\n",
        "    print(\"###############################################################################\")\n",
        "    print(\"Previous tokens: \" + suggestions[0])\n",
        "    for i in range(len(suggestions[1])):\n",
        "        print(\"Suggestion: \" + format_suggestion(suggestions[0], suggestions[1][i]))\n",
        "        print(\" \")\n",
        "\n",
        "    print(\"###############################################################################\")"
      ],
      "execution_count": null,
      "outputs": [
        {
          "output_type": "stream",
          "name": "stdout",
          "text": [
            "###############################################################################\n",
            "Previous tokens: abstract\n",
            "Suggestion: abstract.\n",
            "\n",
            " \n",
            "###############################################################################\n",
            "###############################################################################\n",
            "Previous tokens: as\n",
            "Suggestion: as.\n",
            "\n",
            " \n",
            "###############################################################################\n",
            "###############################################################################\n",
            "Previous tokens: base\n",
            "Suggestion: base.\n",
            "\n",
            " \n",
            "###############################################################################\n",
            "###############################################################################\n",
            "Previous tokens: bool\n",
            "Suggestion: bool.\n",
            "\n",
            " \n",
            "###############################################################################\n",
            "###############################################################################\n",
            "Previous tokens: break\n",
            "Suggestion: break.\n",
            "\n",
            " \n",
            "###############################################################################\n",
            "###############################################################################\n",
            "Previous tokens: byte\n",
            "Suggestion: byte.\n",
            "\n",
            " \n",
            "###############################################################################\n",
            "###############################################################################\n",
            "Previous tokens: case\n",
            "Suggestion: case.\n",
            "\n",
            " \n",
            "###############################################################################\n",
            "###############################################################################\n",
            "Previous tokens: catch\n",
            "Suggestion: catch.\n",
            "\n",
            " \n",
            "###############################################################################\n",
            "###############################################################################\n",
            "Previous tokens: char\n",
            "Suggestion: char.\n",
            "\n",
            " \n",
            "###############################################################################\n",
            "###############################################################################\n",
            "Previous tokens: checked\n",
            "Suggestion: checked.\n",
            "\n",
            " \n",
            "###############################################################################\n",
            "###############################################################################\n",
            "Previous tokens: class\n",
            "Suggestion: class.\n",
            "\n",
            " \n",
            "###############################################################################\n",
            "###############################################################################\n",
            "Previous tokens: const\n",
            "Suggestion: const.\n",
            "\n",
            " \n",
            "###############################################################################\n",
            "###############################################################################\n",
            "Previous tokens: continue\n",
            "Suggestion: continue.\n",
            "\n",
            " \n",
            "###############################################################################\n",
            "###############################################################################\n",
            "Previous tokens: decimal\n",
            "Suggestion: decimal.\n",
            "\n",
            " \n",
            "###############################################################################\n",
            "###############################################################################\n",
            "Previous tokens: default\n",
            "Suggestion: default.\n",
            "\n",
            " \n",
            "###############################################################################\n",
            "###############################################################################\n",
            "Previous tokens: delegate\n",
            "Suggestion: delegate.\n",
            "\n",
            " \n",
            "###############################################################################\n",
            "###############################################################################\n",
            "Previous tokens: do\n",
            "Suggestion: do.\n",
            "\n",
            " \n",
            "###############################################################################\n",
            "###############################################################################\n",
            "Previous tokens: double\n",
            "Suggestion: double.\n",
            "\n",
            " \n",
            "###############################################################################\n",
            "###############################################################################\n",
            "Previous tokens: else\n",
            "Suggestion: else.\n",
            "\n",
            " \n",
            "###############################################################################\n",
            "###############################################################################\n",
            "Previous tokens: enum\n",
            "Suggestion: enum.\n",
            "\n",
            " \n",
            "###############################################################################\n",
            "###############################################################################\n",
            "Previous tokens: event\n",
            "Suggestion: event.\n",
            "\n",
            " \n",
            "###############################################################################\n",
            "###############################################################################\n",
            "Previous tokens: explicit\n",
            "Suggestion: explicit.\n",
            "\n",
            " \n",
            "###############################################################################\n",
            "###############################################################################\n",
            "Previous tokens: extern\n",
            "Suggestion: extern.\n",
            "\n",
            " \n",
            "###############################################################################\n",
            "###############################################################################\n",
            "Previous tokens: false\n",
            "Suggestion: false.\n",
            "\n",
            " \n",
            "###############################################################################\n",
            "###############################################################################\n",
            "Previous tokens: finally\n",
            "Suggestion: finally.\n",
            "\n",
            " \n",
            "###############################################################################\n",
            "###############################################################################\n",
            "Previous tokens: fixed\n",
            "Suggestion: fixed.\n",
            "\n",
            " \n",
            "###############################################################################\n",
            "###############################################################################\n",
            "Previous tokens: float\n",
            "Suggestion: float.\n",
            "\n",
            " \n",
            "###############################################################################\n",
            "###############################################################################\n",
            "Previous tokens: for\n",
            "Suggestion: for.\n",
            "\n",
            " \n",
            "###############################################################################\n",
            "###############################################################################\n",
            "Previous tokens: foreach\n",
            "Suggestion: foreach.\n",
            "\n",
            " \n",
            "###############################################################################\n",
            "###############################################################################\n",
            "Previous tokens: goto\n",
            "Suggestion: goto.\n",
            "\n",
            " \n",
            "###############################################################################\n",
            "###############################################################################\n",
            "Previous tokens: if\n",
            "Suggestion: if.\n",
            "\n",
            " \n",
            "###############################################################################\n",
            "###############################################################################\n",
            "Previous tokens: implicit\n",
            "Suggestion: implicit.\n",
            "\n",
            " \n",
            "###############################################################################\n",
            "###############################################################################\n",
            "Previous tokens: in\n",
            "Suggestion: in.\n",
            "\n",
            " \n",
            "###############################################################################\n",
            "###############################################################################\n",
            "Previous tokens: int\n",
            "Suggestion: int.\n",
            "\n",
            " \n",
            "###############################################################################\n",
            "###############################################################################\n",
            "Previous tokens: interface\n",
            "Suggestion: interface.\n",
            "\n",
            " \n",
            "###############################################################################\n",
            "###############################################################################\n",
            "Previous tokens: internal\n",
            "Suggestion: internal.\n",
            "\n",
            " \n",
            "###############################################################################\n",
            "###############################################################################\n",
            "Previous tokens: is\n",
            "Suggestion: is.\n",
            "\n",
            " \n",
            "###############################################################################\n",
            "###############################################################################\n",
            "Previous tokens: lock\n",
            "Suggestion: lock.\n",
            "\n",
            " \n",
            "###############################################################################\n",
            "###############################################################################\n",
            "Previous tokens: long\n",
            "Suggestion: long.\n",
            "\n",
            " \n",
            "###############################################################################\n",
            "###############################################################################\n",
            "Previous tokens: namespace\n",
            "Suggestion: namespace Microsoft.Arcade.Common\n",
            "{\n",
            " \n",
            "###############################################################################\n",
            "###############################################################################\n",
            "Previous tokens: new\n",
            "Suggestion: new.\n",
            "\n",
            " \n",
            "###############################################################################\n",
            "###############################################################################\n",
            "Previous tokens: object\n",
            "Suggestion: object.\n",
            "\n",
            " \n",
            "###############################################################################\n",
            "###############################################################################\n",
            "Previous tokens: operator\n",
            "Suggestion: operator.\n",
            "\n",
            " \n",
            "###############################################################################\n",
            "###############################################################################\n",
            "Previous tokens: out\n",
            "Suggestion: out.\n",
            "\n",
            " \n",
            "###############################################################################\n",
            "###############################################################################\n",
            "Previous tokens: override\n",
            "Suggestion: override.\n",
            "\n",
            " \n",
            "###############################################################################\n",
            "###############################################################################\n",
            "Previous tokens: params\n",
            "Suggestion: params.\n",
            "\n",
            " \n",
            "###############################################################################\n",
            "###############################################################################\n",
            "Previous tokens: private\n",
            "Suggestion: private.\n",
            "\n",
            " \n",
            "###############################################################################\n",
            "###############################################################################\n",
            "Previous tokens: protected\n",
            "Suggestion: protected.\n",
            "\n",
            " \n",
            "###############################################################################\n",
            "###############################################################################\n",
            "Previous tokens: public\n",
            "Suggestion: public.\n",
            "\n",
            " \n",
            "###############################################################################\n",
            "###############################################################################\n",
            "Previous tokens: readonly\n",
            "Suggestion: readonly.\n",
            "\n",
            " \n",
            "###############################################################################\n",
            "###############################################################################\n",
            "Previous tokens: ref\n",
            "Suggestion: ref executable, ref args);\n",
            "\n",
            " \n",
            "###############################################################################\n",
            "###############################################################################\n",
            "Previous tokens: return\n",
            "Suggestion: return.\n",
            "\n",
            " \n",
            "###############################################################################\n",
            "###############################################################################\n",
            "Previous tokens: sbyte\n",
            "Suggestion: sbyte.\n",
            "\n",
            " \n",
            "###############################################################################\n",
            "###############################################################################\n",
            "Previous tokens: sealed\n",
            "Suggestion: sealed.\n",
            "\n",
            " \n",
            "###############################################################################\n",
            "###############################################################################\n",
            "Previous tokens: short\n",
            "Suggestion: short.\n",
            "\n",
            " \n",
            "###############################################################################\n",
            "###############################################################################\n",
            "Previous tokens: sizeof\n",
            "Suggestion: sizeof.\n",
            "\n",
            " \n",
            "###############################################################################\n",
            "###############################################################################\n",
            "Previous tokens: stackalloc\n",
            "Suggestion: stackalloc.\n",
            "\n",
            " \n",
            "###############################################################################\n",
            "###############################################################################\n",
            "Previous tokens: static\n",
            "Suggestion: static.\n",
            "\n",
            " \n",
            "###############################################################################\n",
            "###############################################################################\n",
            "Previous tokens: string\n",
            "Suggestion: string executable, params string[] args)\n",
            "        {\n",
            " \n",
            "###############################################################################\n",
            "###############################################################################\n",
            "Previous tokens: struct\n",
            "Suggestion: struct.\n",
            "\n",
            " \n",
            "###############################################################################\n",
            "###############################################################################\n",
            "Previous tokens: switch\n",
            "Suggestion: switch.\n",
            "\n",
            " \n",
            "###############################################################################\n",
            "###############################################################################\n",
            "Previous tokens: this\n",
            "Suggestion: this.\n",
            "\n",
            " \n",
            "###############################################################################\n",
            "###############################################################################\n",
            "Previous tokens: throw\n",
            "Suggestion: throw.\n",
            "\n",
            " \n",
            "###############################################################################\n",
            "###############################################################################\n",
            "Previous tokens: true\n",
            "Suggestion: true.\n",
            "\n",
            " \n",
            "###############################################################################\n",
            "###############################################################################\n",
            "Previous tokens: try\n",
            "Suggestion: try.\n",
            "\n",
            " \n",
            "###############################################################################\n",
            "###############################################################################\n",
            "Previous tokens: typeof\n",
            "Suggestion: typeof.\n",
            "\n",
            " \n",
            "###############################################################################\n",
            "###############################################################################\n",
            "Previous tokens: uint\n",
            "Suggestion: uint.\n",
            "\n",
            " \n",
            "###############################################################################\n",
            "###############################################################################\n",
            "Previous tokens: ulong\n",
            "Suggestion: ulong.\n",
            "\n",
            " \n",
            "###############################################################################\n",
            "###############################################################################\n",
            "Previous tokens: unchecked\n",
            "Suggestion: unchecked.\n",
            "\n",
            " \n",
            "###############################################################################\n",
            "###############################################################################\n",
            "Previous tokens: unsafe\n",
            "Suggestion: unsafe.\n",
            "\n",
            " \n",
            "###############################################################################\n",
            "###############################################################################\n",
            "Previous tokens: ushort\n",
            "Suggestion: ushort.\n",
            "\n",
            " \n",
            "###############################################################################\n",
            "###############################################################################\n",
            "Previous tokens: using\n",
            "Suggestion: using System.Linq;\n",
            "using System.Runtime.InteropServices;\n",
            " \n",
            "###############################################################################\n",
            "###############################################################################\n",
            "Previous tokens: virtual\n",
            "Suggestion: virtual.\n",
            "\n",
            " \n",
            "###############################################################################\n",
            "###############################################################################\n",
            "Previous tokens: void\n",
            "Suggestion: void.\n",
            "\n",
            " \n",
            "###############################################################################\n",
            "###############################################################################\n",
            "Previous tokens: volatile\n",
            "Suggestion: volatile.\n",
            "\n",
            " \n",
            "###############################################################################\n",
            "###############################################################################\n",
            "Previous tokens: while\n",
            "Suggestion: while.\n",
            "\n",
            " \n",
            "###############################################################################\n"
          ]
        }
      ]
    },
    {
      "cell_type": "markdown",
      "metadata": {
        "id": "I00wZBMi2EKf"
      },
      "source": [
        "### Get suggestions for 2 word:"
      ]
    },
    {
      "cell_type": "code",
      "metadata": {
        "id": "LnBdL1YgFL8Q"
      },
      "source": [
        "all_suggestions_2_word = load_from_data_file(PATH_TO_SAVE_SUGGESTIONS_DATA_2_WORD)"
      ],
      "execution_count": null,
      "outputs": []
    },
    {
      "cell_type": "code",
      "metadata": {
        "id": "6Rw5RIa72QRn"
      },
      "source": [
        "num_return_sequences = 1\n",
        "previous_tokens_to_test = load_csv_to_test_previous_tokens_list(PATH_TO_TEST_FILE_2_WORD)\n",
        "\n",
        "all_suggestions_2_word = []\n",
        "\n",
        "for previous_tokens in previous_tokens_to_test:\n",
        "    all_suggestions_2_word.append((previous_tokens, get_suggestions(previous_tokens, model, num_return_sequences, tokenizer)))\n"
      ],
      "execution_count": null,
      "outputs": []
    },
    {
      "cell_type": "code",
      "metadata": {
        "id": "F410bL3Q1p3l"
      },
      "source": [
        "export_list_to_data_file(all_suggestions_2_word, PATH_TO_SAVE_SUGGESTIONS_DATA_2_WORD)"
      ],
      "execution_count": null,
      "outputs": []
    },
    {
      "cell_type": "code",
      "metadata": {
        "id": "VDQlAx5y1p3l"
      },
      "source": [
        "save_suggestions_to_csv_file(PATH_TO_SAVE_SUGGESTIONS_2_WORD, all_suggestions_2_word)"
      ],
      "execution_count": null,
      "outputs": []
    },
    {
      "cell_type": "code",
      "metadata": {
        "colab": {
          "base_uri": "https://localhost:8080/"
        },
        "id": "dRtDiUDQ1p3d",
        "outputId": "9cf3e8af-d8c1-4fdf-e4e2-95b9e7a5f48f"
      },
      "source": [
        "for suggestions in all_suggestions_2_word:\n",
        "    print(\"###############################################################################\")\n",
        "    print(\"Previous tokens: \" + suggestions[0])\n",
        "    for i in range(len(suggestions[1])):\n",
        "        print(\"Suggestion: \" + format_suggestion(suggestions[0], suggestions[1][i]))\n",
        "        print(\" \")\n",
        "\n",
        "    print(\"###############################################################################\")"
      ],
      "execution_count": null,
      "outputs": [
        {
          "output_type": "stream",
          "name": "stdout",
          "text": [
            "###############################################################################\n",
            "Previous tokens: public abstract\n",
            "Suggestion: public abstract.\n",
            "\n",
            " \n",
            "###############################################################################\n",
            "###############################################################################\n",
            "Previous tokens: base .\n",
            "Suggestion: base.NET Foundation licenses this file to you under the MIT license.\n",
            "\n",
            " \n",
            "###############################################################################\n",
            "###############################################################################\n",
            "Previous tokens: private bool\n",
            "Suggestion: private bool ShouldUseCmd(string executable)\n",
            "        {\n",
            " \n",
            "###############################################################################\n",
            "###############################################################################\n",
            "Previous tokens: public byte\n",
            "Suggestion: public byte.\n",
            "\n",
            " \n",
            "###############################################################################\n",
            "###############################################################################\n",
            "Previous tokens: case when\n",
            "Suggestion: case when.\n",
            "\n",
            " \n",
            "###############################################################################\n",
            "###############################################################################\n",
            "Previous tokens: catch {\n",
            "Suggestion: catch {\n",
            "\n",
            " \n",
            "###############################################################################\n",
            "###############################################################################\n",
            "Previous tokens: char [\n",
            "Suggestion: char [.\n",
            "\n",
            " \n",
            "###############################################################################\n",
            "###############################################################################\n",
            "Previous tokens: private class\n",
            "Suggestion: private class CommandFactory : ICommandFactory\n",
            "    {\n",
            " \n",
            "###############################################################################\n",
            "###############################################################################\n",
            "Previous tokens: public const\n",
            "Suggestion: public const.\n",
            "\n",
            " \n",
            "###############################################################################\n",
            "###############################################################################\n",
            "Previous tokens: private decimal\n",
            "Suggestion: private decimal.\n",
            "\n",
            " \n",
            "###############################################################################\n",
            "###############################################################################\n",
            "Previous tokens: public delegate\n",
            "Suggestion: public delegate.\n",
            "\n",
            " \n",
            "###############################################################################\n",
            "###############################################################################\n",
            "Previous tokens: do {\n",
            "Suggestion: do {\n",
            "            // So, do a quick path search to see if we can just directly invoke it\n",
            " \n",
            "###############################################################################\n",
            "###############################################################################\n",
            "Previous tokens: private double\n",
            "Suggestion: private double.\n",
            "\n",
            " \n",
            "###############################################################################\n",
            "###############################################################################\n",
            "Previous tokens: else {\n",
            "Suggestion: else {\n",
            "            var useCmd = ShouldUseCmd(executable);\n",
            " \n",
            "###############################################################################\n",
            "###############################################################################\n",
            "Previous tokens: public enum\n",
            "Suggestion: public enum.\n",
            "\n",
            " \n",
            "###############################################################################\n",
            "###############################################################################\n",
            "Previous tokens: private event\n",
            "Suggestion: private event.\n",
            "\n",
            " \n",
            "###############################################################################\n",
            "###############################################################################\n",
            "Previous tokens: = false\n",
            "Suggestion: = false;\n",
            "                        }\n",
            " \n",
            "###############################################################################\n",
            "###############################################################################\n",
            "Previous tokens: finally {\n",
            "Suggestion: finally {\n",
            "\n",
            " \n",
            "###############################################################################\n",
            "###############################################################################\n",
            "Previous tokens: private float\n",
            "Suggestion: private float.\n",
            "\n",
            " \n",
            "###############################################################################\n",
            "###############################################################################\n",
            "Previous tokens: for (\n",
            "Suggestion: for (\n",
            "                // args is empty, we just run \"foo.exe\"\n",
            " \n",
            "###############################################################################\n",
            "###############################################################################\n",
            "Previous tokens: foreach (\n",
            "Suggestion: foreach (\n",
            "\n",
            " \n",
            "###############################################################################\n",
            "###############################################################################\n",
            "Previous tokens: if (\n",
            "Suggestion: if (\n",
            "                var comSpec = System.Environment.GetEnvironmentVariable(\"ComSpec\");\n",
            " \n",
            "###############################################################################\n",
            "###############################################################################\n",
            "Previous tokens: private int\n",
            "Suggestion: private int.\n",
            "\n",
            " \n",
            "###############################################################################\n",
            "###############################################################################\n",
            "Previous tokens: public interface\n",
            "Suggestion: public interface.\n",
            "\n",
            " \n",
            "###############################################################################\n",
            "###############################################################################\n",
            "Previous tokens: internal Class\n",
            "Suggestion: internal Class.\n",
            "\n",
            " \n",
            "###############################################################################\n",
            "###############################################################################\n",
            "Previous tokens: lock (\n",
            "Suggestion: lock (\n",
            "                // So, do a quick path search to see if we can just directly invoke it\n",
            " \n",
            "###############################################################################\n",
            "###############################################################################\n",
            "Previous tokens: private long\n",
            "Suggestion: private long.\n",
            "\n",
            " \n",
            "###############################################################################\n",
            "###############################################################################\n",
            "Previous tokens: public namespace\n",
            "Suggestion: public namespace.\n",
            "\n",
            " \n",
            "###############################################################################\n",
            "###############################################################################\n",
            "Previous tokens: new {\n",
            "Suggestion: new {\n",
            "\n",
            " \n",
            "###############################################################################\n",
            "###############################################################################\n",
            "Previous tokens: public object\n",
            "Suggestion: public object.\n",
            "\n",
            " \n",
            "###############################################################################\n",
            "###############################################################################\n",
            "Previous tokens: out string\n",
            "Suggestion: out string[] args)\n",
            "        {\n",
            " \n",
            "###############################################################################\n",
            "###############################################################################\n",
            "Previous tokens: private override\n",
            "Suggestion: private override.\n",
            "\n",
            " \n",
            "###############################################################################\n",
            "###############################################################################\n",
            "Previous tokens: params [\n",
            "Suggestion: params [.\n",
            "\n",
            " \n",
            "###############################################################################\n",
            "###############################################################################\n",
            "Previous tokens: private static\n",
            "Suggestion: private static bool ShouldUseCmd(string executable)\n",
            "        {\n",
            " \n",
            "###############################################################################\n",
            "###############################################################################\n",
            "Previous tokens: protected int\n",
            "Suggestion: protected int.\n",
            "\n",
            " \n",
            "###############################################################################\n",
            "###############################################################################\n",
            "Previous tokens: public void\n",
            "Suggestion: public void ResolveExecutablePath(ref string executable, ref string args)\n",
            "        {\n",
            " \n",
            "###############################################################################\n",
            "###############################################################################\n",
            "Previous tokens: private readonly\n",
            "Suggestion: private readonly.\n",
            "\n",
            " \n",
            "###############################################################################\n",
            "###############################################################################\n",
            "Previous tokens: ref int\n",
            "Suggestion: ref int executable, ref args);\n",
            "\n",
            " \n",
            "###############################################################################\n",
            "###############################################################################\n",
            "Previous tokens: return bool\n",
            "Suggestion: return bool ShouldUseCmd(string executable)\n",
            "        {\n",
            " \n",
            "###############################################################################\n",
            "###############################################################################\n",
            "Previous tokens: private sealed\n",
            "Suggestion: private sealed.\n",
            "\n",
            " \n",
            "###############################################################################\n",
            "###############################################################################\n",
            "Previous tokens: public short\n",
            "Suggestion: public short.\n",
            "\n",
            " \n",
            "###############################################################################\n",
            "###############################################################################\n",
            "Previous tokens: sizeof (\n",
            "Suggestion: sizeof (\n",
            "                // So, do a quick path search to see if we can just directly invoke it\n",
            " \n",
            "###############################################################################\n",
            "###############################################################################\n",
            "Previous tokens: private static\n",
            "Suggestion: private static bool ShouldUseCmd(string executable)\n",
            "        {\n",
            " \n",
            "###############################################################################\n",
            "###############################################################################\n",
            "Previous tokens: string .\n",
            "Suggestion: string.NET Foundation licenses this file to you under the MIT license.\n",
            "\n",
            " \n",
            "###############################################################################\n",
            "###############################################################################\n",
            "Previous tokens: public struct\n",
            "Suggestion: public struct.\n",
            "\n",
            " \n",
            "###############################################################################\n",
            "###############################################################################\n",
            "Previous tokens: switch case\n",
            "Suggestion: switch case.\n",
            "\n",
            " \n",
            "###############################################################################\n",
            "###############################################################################\n",
            "Previous tokens: this .\n",
            "Suggestion: this.NET Foundation licenses this file to you under the MIT license.\n",
            "\n",
            " \n",
            "###############################################################################\n",
            "###############################################################################\n",
            "Previous tokens: throw new\n",
            "Suggestion: throw new Command(executable, args);\n",
            "        }\n",
            " \n",
            "###############################################################################\n",
            "###############################################################################\n",
            "Previous tokens: = true\n",
            "Suggestion: = true;\n",
            "            }\n",
            " \n",
            "###############################################################################\n",
            "###############################################################################\n",
            "Previous tokens: try {\n",
            "Suggestion: try {\n",
            "\n",
            " \n",
            "###############################################################################\n",
            "###############################################################################\n",
            "Previous tokens: typeof (\n",
            "Suggestion: typeof (\n",
            "                var comSpec = System.Environment.GetEnvironmentVariable(\"ComSpec\");\n",
            " \n",
            "###############################################################################\n",
            "###############################################################################\n",
            "Previous tokens: using System\n",
            "Suggestion: using System.Linq;\n",
            "using System.Runtime.InteropServices;\n",
            " \n",
            "###############################################################################\n",
            "###############################################################################\n",
            "Previous tokens: public virtual\n",
            "Suggestion: public virtual.\n",
            "\n",
            " \n",
            "###############################################################################\n",
            "###############################################################################\n",
            "Previous tokens: private void\n",
            "Suggestion: private void ResolveExecutablePath(ref string executable, ref string args)\n",
            "        {\n",
            " \n",
            "###############################################################################\n",
            "###############################################################################\n",
            "Previous tokens: while (\n",
            "Suggestion: while (\n",
            "                var comSpec = System.Environment.GetEnvironmentVariable(\"ComSpec\");\n",
            " \n",
            "###############################################################################\n"
          ]
        }
      ]
    },
    {
      "cell_type": "markdown",
      "metadata": {
        "id": "nQ8lOFAN2jtm"
      },
      "source": [
        "### Get suggestions for 3 word:"
      ]
    },
    {
      "cell_type": "code",
      "metadata": {
        "id": "VRlT4DxeFagM"
      },
      "source": [
        "all_suggestions_3_word = load_from_data_file(PATH_TO_SAVE_SUGGESTIONS_DATA_3_WORD)"
      ],
      "execution_count": null,
      "outputs": []
    },
    {
      "cell_type": "code",
      "metadata": {
        "id": "kmdAy1Fa2jtu"
      },
      "source": [
        "num_return_sequences = 1\n",
        "previous_tokens_to_test = load_csv_to_test_previous_tokens_list(PATH_TO_TEST_FILE_3_WORD)\n",
        "\n",
        "all_suggestions_3_word = []\n",
        "\n",
        "for previous_tokens in previous_tokens_to_test:\n",
        "    all_suggestions_3_word.append((previous_tokens, get_suggestions(previous_tokens, model, num_return_sequences, tokenizer)))\n"
      ],
      "execution_count": null,
      "outputs": []
    },
    {
      "cell_type": "code",
      "metadata": {
        "id": "4irovUe12jtv"
      },
      "source": [
        "save_suggestions_to_csv_file(PATH_TO_SAVE_SUGGESTIONS_3_WORD, all_suggestions_3_word)"
      ],
      "execution_count": null,
      "outputs": []
    },
    {
      "cell_type": "code",
      "metadata": {
        "id": "7739Z-kX2jtv"
      },
      "source": [
        "export_list_to_data_file(all_suggestions_3_word, PATH_TO_SAVE_SUGGESTIONS_DATA_3_WORD)"
      ],
      "execution_count": null,
      "outputs": []
    },
    {
      "cell_type": "code",
      "metadata": {
        "colab": {
          "base_uri": "https://localhost:8080/"
        },
        "id": "2OjQeBLe2jtu",
        "outputId": "69053817-0b74-40cc-f340-4c086e473a8a"
      },
      "source": [
        "for suggestions in all_suggestions_3_word:\n",
        "    print(\"###############################################################################\")\n",
        "    print(\"Previous tokens: \" + suggestions[0])\n",
        "    for i in range(len(suggestions[1])):\n",
        "        print(\"Suggestion: \" + format_suggestion(suggestions[0], suggestions[1][i]))\n",
        "        print(\" \")\n",
        "\n",
        "    print(\"###############################################################################\")"
      ],
      "execution_count": null,
      "outputs": [
        {
          "output_type": "stream",
          "name": "stdout",
          "text": [
            "###############################################################################\n",
            "Previous tokens: public abstract class\n",
            "Suggestion: public abstract class CommandFactory : ICommandFactory\n",
            "    {\n",
            " \n",
            "###############################################################################\n",
            "###############################################################################\n",
            "Previous tokens: base . M\n",
            "Suggestion: base. M.\n",
            "\n",
            " \n",
            "###############################################################################\n",
            "###############################################################################\n",
            "Previous tokens: private bool P\n",
            "Suggestion: private bool P.\n",
            "\n",
            " \n",
            "###############################################################################\n",
            "###############################################################################\n",
            "Previous tokens: public byte [\n",
            "Suggestion: public byte [.\n",
            "\n",
            " \n",
            "###############################################################################\n",
            "###############################################################################\n",
            "Previous tokens: case when P\n",
            "Suggestion: case when P.\n",
            "\n",
            " \n",
            "###############################################################################\n",
            "###############################################################################\n",
            "Previous tokens: catch ( Exception\n",
            "Suggestion: catch ( Exception \"foo.exe \", so we need to ensure that if\n",
            "                // args is empty, we just run \"foo.exe\"\n",
            " \n",
            "###############################################################################\n",
            "###############################################################################\n",
            "Previous tokens: char [ ]\n",
            "Suggestion: char [ ].\n",
            "\n",
            " \n",
            "###############################################################################\n",
            "###############################################################################\n",
            "Previous tokens: private class N\n",
            "Suggestion: private class N to ensure that if\n",
            "                // args is empty, we just run \"foo.exe\"\n",
            " \n",
            "###############################################################################\n",
            "###############################################################################\n",
            "Previous tokens: public const string\n",
            "Suggestion: public const string[] args)\n",
            "        {\n",
            " \n",
            "###############################################################################\n",
            "###############################################################################\n",
            "Previous tokens: private decimal T\n",
            "Suggestion: private decimal T.\n",
            "\n",
            " \n",
            "###############################################################################\n",
            "###############################################################################\n",
            "Previous tokens: public delegate A\n",
            "Suggestion: public delegate A.\n",
            "\n",
            " \n",
            "###############################################################################\n",
            "###############################################################################\n",
            "Previous tokens: do { int\n",
            "Suggestion: do { int // So, do a quick path search to see if we can just directly invoke it\n",
            "            var useCmd = ShouldUseCmd(executable);\n",
            " \n",
            "###############################################################################\n",
            "###############################################################################\n",
            "Previous tokens: private double J\n",
            "Suggestion: private double J.\n",
            "\n",
            " \n",
            "###############################################################################\n",
            "###############################################################################\n",
            "Previous tokens: else { string\n",
            "Suggestion: else { string[] args)\n",
            "        {\n",
            " \n",
            "###############################################################################\n",
            "###############################################################################\n",
            "Previous tokens: public enum T\n",
            "Suggestion: public enum T.\n",
            "\n",
            " \n",
            "###############################################################################\n",
            "###############################################################################\n",
            "Previous tokens: private event A\n",
            "Suggestion: private event A.\n",
            "\n",
            " \n",
            "###############################################################################\n",
            "###############################################################################\n",
            "Previous tokens: = false ;\n",
            "Suggestion: = false ;;\n",
            "using System.Environment.GetEnvironmentVariable(\"PATH\").Split(Path.PathSeparator))\n",
            " \n",
            "###############################################################################\n",
            "###############################################################################\n",
            "Previous tokens: finally { g\n",
            "Suggestion: finally { g\n",
            "            return Create(executable, ArgumentEscaper.EscapeAndConcatenateArgArrayForProcessStart(args));\n",
            " \n",
            "###############################################################################\n",
            "###############################################################################\n",
            "Previous tokens: private float F\n",
            "Suggestion: private float F.\n",
            "\n",
            " \n",
            "###############################################################################\n",
            "###############################################################################\n",
            "Previous tokens: for ( i\n",
            "Suggestion: for ( i.IsOSPlatform(OSPlatform.Windows))\n",
            "            {\n",
            " \n",
            "###############################################################################\n",
            "###############################################################################\n",
            "Previous tokens: foreach ( var\n",
            "Suggestion: foreach ( var useCmd = ShouldUseCmd(executable);\n",
            "\n",
            " \n",
            "###############################################################################\n",
            "###############################################################################\n",
            "Previous tokens: if ( r\n",
            "Suggestion: if ( r \"foo.exe \", so we need to ensure that if\n",
            "                // args is empty, we just run \"foo.exe\"\n",
            " \n",
            "###############################################################################\n",
            "###############################################################################\n",
            "Previous tokens: private int l\n",
            "Suggestion: private int l.\n",
            "\n",
            " \n",
            "###############################################################################\n",
            "###############################################################################\n",
            "Previous tokens: public interface I\n",
            "Suggestion: public interface I.\n",
            "\n",
            " \n",
            "###############################################################################\n",
            "###############################################################################\n",
            "Previous tokens: internal Class V\n",
            "Suggestion: internal Class V.\n",
            "\n",
            " \n",
            "###############################################################################\n",
            "###############################################################################\n",
            "Previous tokens: lock ( object\n",
            "Suggestion: lock ( object to ensure that if\n",
            "                // args is empty, we just run \"foo.exe\"\n",
            " \n",
            "###############################################################################\n",
            "###############################################################################\n",
            "Previous tokens: private long string\n",
            "Suggestion: private long string\n",
            "    public class CommandFactory : ICommandFactory\n",
            " \n",
            "###############################################################################\n",
            "###############################################################################\n",
            "Previous tokens: public namespace A\n",
            "Suggestion: public namespace A.\n",
            "\n",
            " \n",
            "###############################################################################\n",
            "###############################################################################\n",
            "Previous tokens: new { T\n",
            "Suggestion: new { T\n",
            "            return Create(executable, ArgumentEscaper.EscapeAndConcatenateArgArrayForProcessStart(args));\n",
            " \n",
            "###############################################################################\n",
            "###############################################################################\n",
            "Previous tokens: public object A\n",
            "Suggestion: public object A.\n",
            "\n",
            " \n",
            "###############################################################################\n",
            "###############################################################################\n",
            "Previous tokens: out string J\n",
            "Suggestion: out string J)\n",
            "        {\n",
            " \n",
            "###############################################################################\n",
            "###############################################################################\n",
            "Previous tokens: private override string\n",
            "Suggestion: private override string[] args)\n",
            "        {\n",
            " \n",
            "###############################################################################\n",
            "###############################################################################\n",
            "Previous tokens: params [ ]\n",
            "Suggestion: params [ ].\n",
            "\n",
            " \n",
            "###############################################################################\n",
            "###############################################################################\n",
            "Previous tokens: private static void\n",
            "Suggestion: private static void ResolveExecutablePath(ref string executable, ref string args)\n",
            "        {\n",
            " \n",
            "###############################################################################\n",
            "###############################################################################\n",
            "Previous tokens: protected int L\n",
            "Suggestion: protected int L.\n",
            "\n",
            " \n",
            "###############################################################################\n",
            "###############################################################################\n",
            "Previous tokens: public void W\n",
            "Suggestion: public void W.\n",
            "\n",
            " \n",
            "###############################################################################\n",
            "###############################################################################\n",
            "Previous tokens: private readonly _\n",
            "Suggestion: private readonly _.\n",
            "\n",
            " \n",
            "###############################################################################\n",
            "###############################################################################\n",
            "Previous tokens: ref int o\n",
            "Suggestion: ref int o executable, ref args);\n",
            "\n",
            " \n",
            "###############################################################################\n",
            "###############################################################################\n",
            "Previous tokens: return bool ;\n",
            "Suggestion: return bool ;.\n",
            "\n",
            " \n",
            "###############################################################################\n",
            "###############################################################################\n",
            "Previous tokens: private sealed class\n",
            "Suggestion: private sealed class CommandFactory : ICommandFactory\n",
            "    {\n",
            " \n",
            "###############################################################################\n",
            "###############################################################################\n",
            "Previous tokens: public short I\n",
            "Suggestion: public short I.\n",
            "\n",
            " \n",
            "###############################################################################\n",
            "###############################################################################\n",
            "Previous tokens: sizeof ( B\n",
            "Suggestion: sizeof ( B to ensure that if\n",
            "                // args is empty, we just run \"foo.exe\"\n",
            " \n",
            "###############################################################################\n",
            "###############################################################################\n",
            "Previous tokens: private static bool\n",
            "Suggestion: private static bool ShouldUseCmd(string executable)\n",
            "        {\n",
            " \n",
            "###############################################################################\n",
            "###############################################################################\n",
            "Previous tokens: public struct C\n",
            "Suggestion: public struct C.\n",
            "\n",
            " \n",
            "###############################################################################\n",
            "###############################################################################\n",
            "Previous tokens: switch case (\n",
            "Suggestion: switch case (\n",
            "            // So, do a quick path search to see if we can just directly invoke it\n",
            " \n",
            "###############################################################################\n",
            "###############################################################################\n",
            "Previous tokens: this . L\n",
            "Suggestion: this. L.\n",
            "\n",
            " \n",
            "###############################################################################\n",
            "###############################################################################\n",
            "Previous tokens: throw new Exception\n",
            "Suggestion: throw new Exception(executable, args);\n",
            "        }\n",
            " \n",
            "###############################################################################\n",
            "###############################################################################\n",
            "Previous tokens: = true ;\n",
            "Suggestion: = true ;;\n",
            "            }\n",
            " \n",
            "###############################################################################\n",
            "###############################################################################\n",
            "Previous tokens: try { this\n",
            "Suggestion: try { this file to you under the MIT license.\n",
            "\n",
            " \n",
            "###############################################################################\n",
            "###############################################################################\n",
            "Previous tokens: typeof ( D\n",
            "Suggestion: typeof ( D.\n",
            "\n",
            " \n",
            "###############################################################################\n",
            "###############################################################################\n",
            "Previous tokens: using System .\n",
            "Suggestion: using System.NET Foundation under one or more agreements.\n",
            "\n",
            " \n",
            "###############################################################################\n",
            "###############################################################################\n",
            "Previous tokens: public virtual S\n",
            "Suggestion: public virtual S.\n",
            "\n",
            " \n",
            "###############################################################################\n",
            "###############################################################################\n",
            "Previous tokens: private void M\n",
            "Suggestion: private void M.\n",
            "\n",
            " \n",
            "###############################################################################\n",
            "###############################################################################\n",
            "Previous tokens: while ( true\n",
            "Suggestion: while ( true;\n",
            "            }\n",
            " \n",
            "###############################################################################\n"
          ]
        }
      ]
    },
    {
      "cell_type": "markdown",
      "metadata": {
        "id": "vsLit3mB2zng"
      },
      "source": [
        "### Get suggestions for 4 word:"
      ]
    },
    {
      "cell_type": "code",
      "metadata": {
        "id": "MFu4TParFq0y"
      },
      "source": [
        "all_suggestions_4_word = load_from_data_file(PATH_TO_SAVE_SUGGESTIONS_DATA_4_WORD)"
      ],
      "execution_count": null,
      "outputs": []
    },
    {
      "cell_type": "code",
      "metadata": {
        "id": "JgLXj5z52znh"
      },
      "source": [
        "num_return_sequences = 1\n",
        "previous_tokens_to_test = load_csv_to_test_previous_tokens_list(PATH_TO_TEST_FILE_4_WORD)\n",
        "\n",
        "all_suggestions_4_word = []\n",
        "\n",
        "for previous_tokens in previous_tokens_to_test:\n",
        "    all_suggestions_4_word.append((previous_tokens, get_suggestions(previous_tokens, model, num_return_sequences, tokenizer)))\n"
      ],
      "execution_count": null,
      "outputs": []
    },
    {
      "cell_type": "code",
      "metadata": {
        "id": "9hBw6gw12znh"
      },
      "source": [
        "save_suggestions_to_csv_file(PATH_TO_SAVE_SUGGESTIONS_4_WORD, all_suggestions_4_word)"
      ],
      "execution_count": null,
      "outputs": []
    },
    {
      "cell_type": "code",
      "metadata": {
        "id": "glfKzAD42znh"
      },
      "source": [
        "export_list_to_data_file(all_suggestions_4_word, PATH_TO_SAVE_SUGGESTIONS_DATA_4_WORD)"
      ],
      "execution_count": null,
      "outputs": []
    },
    {
      "cell_type": "code",
      "metadata": {
        "colab": {
          "base_uri": "https://localhost:8080/"
        },
        "id": "0r9C_xuF2znh",
        "outputId": "aebed432-d058-403a-f86f-a78313fb4d44"
      },
      "source": [
        "for suggestions in all_suggestions_4_word:\n",
        "    print(\"###############################################################################\")\n",
        "    print(\"Previous tokens: \" + suggestions[0])\n",
        "    for i in range(len(suggestions[1])):\n",
        "        print(\"Suggestion: \" + format_suggestion(suggestions[0], suggestions[1][i]))\n",
        "        print(\" \")\n",
        "\n",
        "    print(\"###############################################################################\")"
      ],
      "execution_count": null,
      "outputs": [
        {
          "output_type": "stream",
          "name": "stdout",
          "text": [
            "###############################################################################\n",
            "Previous tokens: public bool IsVerified {\n",
            "Suggestion: public bool IsVerified {\n",
            "            // So, do a quick path search to see if we can just directly invoke it\n",
            " \n",
            "###############################################################################\n",
            "###############################################################################\n",
            "Previous tokens: public string Message {\n",
            "Suggestion: public string Message {\n",
            "            // So, do a quick path search to see if we can just directly invoke it\n",
            " \n",
            "###############################################################################\n",
            "###############################################################################\n",
            "Previous tokens: public int Count {\n",
            "Suggestion: public int Count {\n",
            "            return Create(executable, ArgumentEscaper.EscapeAndConcatenateArgArrayForProcessStart(args));\n",
            " \n",
            "###############################################################################\n",
            "###############################################################################\n",
            "Previous tokens: public long Count {\n",
            "Suggestion: public long Count {\n",
            "            return Create(executable, ArgumentEscaper.EscapeAndConcatenateArgArrayForProcessStart(args));\n",
            " \n",
            "###############################################################################\n",
            "###############################################################################\n",
            "Previous tokens: public void WriteFile {\n",
            "Suggestion: public void WriteFile {\n",
            "            // So, do a quick path search to see if we can just directly invoke it\n",
            " \n",
            "###############################################################################\n",
            "###############################################################################\n",
            "Previous tokens: public void  ReadFile {\n",
            "Suggestion: public void  ReadFile {\n",
            "            // So, do a quick path search to see if we can just directly invoke it\n",
            " \n",
            "###############################################################################\n",
            "###############################################################################\n",
            "Previous tokens: GetHash ( ) ;\n",
            "Suggestion: GetHash ( ) ; to ensure that if\n",
            "                // args is empty, we just run \"foo.exe\"\n",
            " \n",
            "###############################################################################\n",
            "###############################################################################\n",
            "Previous tokens: new SqlConnection ( Connection\n",
            "Suggestion: new SqlConnection ( Connection to\n",
            "\n",
            " \n",
            "###############################################################################\n",
            "###############################################################################\n",
            "Previous tokens: = new { Is\n",
            "Suggestion: = new { Is to see if we can just directly invoke it\n",
            "            var useCmd = ShouldUseCmd(executable);\n",
            " \n",
            "###############################################################################\n",
            "###############################################################################\n",
            "Previous tokens: = typeof ( string\n",
            "Suggestion: = typeof ( string args)\n",
            "        {\n",
            " \n",
            "###############################################################################\n",
            "###############################################################################\n",
            "Previous tokens: private const string C\n",
            "Suggestion: private const string C)\n",
            "        {\n",
            " \n",
            "###############################################################################\n",
            "###############################################################################\n",
            "Previous tokens: using Sytem . N\n",
            "Suggestion: using Sytem. N System.Environment.GetEnvironmentVariable(\"PATH\").Split(Path.PathSeparator))\n",
            "                    {\n",
            " \n",
            "###############################################################################\n",
            "###############################################################################\n",
            "Previous tokens: int . TryParse (\n",
            "Suggestion: int. TryParse (\n",
            "\n",
            " \n",
            "###############################################################################\n",
            "###############################################################################\n",
            "Previous tokens: string . IsNullOrEmpty (\n",
            "Suggestion: string. IsNullOrEmpty (var path in System.Environment.GetEnvironmentVariable(\"PATH\").Split(Path.PathSeparator))\n",
            "                    {\n",
            " \n",
            "###############################################################################\n",
            "###############################################################################\n",
            "Previous tokens: public interface IAbstractFactory {\n",
            "Suggestion: public interface IAbstractFactory {\n",
            "\n",
            " \n",
            "###############################################################################\n",
            "###############################################################################\n",
            "Previous tokens: return new object ( \n",
            "Suggestion: return new object (  to ensure that if\n",
            "                // args is empty, we just run \"foo.exe\"\n",
            " \n",
            "###############################################################################\n",
            "###############################################################################\n",
            "Previous tokens: class Factory : IAbstractFactory\n",
            "Suggestion: class Factory : IAbstractFactory\n",
            "    {\n",
            " \n",
            "###############################################################################\n",
            "###############################################################################\n",
            "Previous tokens: return $ \" The\n",
            "Suggestion: return $ \" The.NET Foundation licenses this file to you under the MIT license.\n",
            "\n",
            " \n",
            "###############################################################################\n",
            "###############################################################################\n",
            "Previous tokens: public void Main (\n",
            "Suggestion: public void Main (var path in System.Environment.GetEnvironmentVariable(\"PATH\").Split(Path.PathSeparator))\n",
            "                    {\n",
            " \n",
            "###############################################################################\n",
            "###############################################################################\n",
            "Previous tokens: Console . WriteLine (\n",
            "Suggestion: Console. WriteLine (var path in System.Environment.GetEnvironmentVariable(\"PATH\").Split(Path.PathSeparator))\n",
            "                    {\n",
            " \n",
            "###############################################################################\n",
            "###############################################################################\n",
            "Previous tokens: static void Main (\n",
            "Suggestion: static void Main (var path in System.Environment.GetEnvironmentVariable(\"PATH\").Split(Path.PathSeparator))\n",
            "                    {\n",
            " \n",
            "###############################################################################\n",
            "###############################################################################\n",
            "Previous tokens: public interface ITarget {\n",
            "Suggestion: public interface ITarget {\n",
            "            return Create(executable, ArgumentEscaper.EscapeAndConcatenateArgArrayForProcessStart(args));\n",
            " \n",
            "###############################################################################\n",
            "###############################################################################\n",
            "Previous tokens: private readonly Adaptee _\n",
            "Suggestion: private readonly Adaptee _.\n",
            "\n",
            " \n",
            "###############################################################################\n",
            "###############################################################################\n",
            "Previous tokens: public string Message {\n",
            "Suggestion: public string Message {\n",
            "            // So, do a quick path search to see if we can just directly invoke it\n",
            " \n",
            "###############################################################################\n",
            "###############################################################################\n",
            "Previous tokens: public Abstraction ( IImplementation\n",
            "Suggestion: public Abstraction ( IImplementation to\n",
            "\n",
            " \n",
            "###############################################################################\n",
            "###############################################################################\n",
            "Previous tokens: base . _implementation .\n",
            "Suggestion: base. _implementation.NET Foundation licenses this file to you under the MIT license.\n",
            "\n",
            " \n",
            "###############################################################################\n",
            "###############################################################################\n",
            "Previous tokens: where < T >\n",
            "Suggestion: where < T >.\n",
            "\n",
            " \n",
            "###############################################################################\n",
            "###############################################################################\n",
            "Previous tokens: public enum Type {\n",
            "Suggestion: public enum Type {\n",
            "            return Create(executable, ArgumentEscaper.EscapeAndConcatenateArgArrayForProcessStart(args));\n",
            " \n",
            "###############################################################################\n",
            "###############################################################################\n",
            "Previous tokens: get => { r\n",
            "Suggestion: get => { r\n",
            "            return Create(executable, ArgumentEscaper.EscapeAndConcatenateArgArrayForProcessStart(args));\n",
            " \n",
            "###############################################################################\n",
            "###############################################################################\n",
            "Previous tokens: { throw new Not\n",
            "Suggestion: { throw new Not(string executable, params string[] args)\n",
            "        {\n",
            " \n",
            "###############################################################################\n",
            "###############################################################################\n",
            "Previous tokens: this . _children .\n",
            "Suggestion: this. _children.NET Foundation licenses this file to you under the MIT license.\n",
            "\n",
            " \n",
            "###############################################################################\n",
            "###############################################################################\n",
            "Previous tokens: public void ClientCode (\n",
            "Suggestion: public void ClientCode (it mangles the colors, and a bunch of other things)\n",
            "            // So, do a quick path search to see if we can just directly invoke it\n",
            " \n",
            "###############################################################################\n",
            "###############################################################################\n",
            "Previous tokens: tree . Add (\n",
            "Suggestion: tree. Add (var path in System.Environment.GetEnvironmentVariable(\"PATH\").Split(Path.PathSeparator))\n",
            "                    {\n",
            " \n",
            "###############################################################################\n",
            "###############################################################################\n",
            "Previous tokens: public abstract string O\n",
            "Suggestion: public abstract string O to\n",
            "\n",
            " \n",
            "###############################################################################\n",
            "###############################################################################\n",
            "Previous tokens: public abstract class C\n",
            "Suggestion: public abstract class C to ensure that if\n",
            "                // args is empty, we just run \"foo.exe\"\n",
            " \n",
            "###############################################################################\n",
            "###############################################################################\n",
            "Previous tokens: public struct T {\n",
            "Suggestion: public struct T {\n",
            "            return Create(executable, ArgumentEscaper.EscapeAndConcatenateArgArrayForProcessStart(args));\n",
            " \n",
            "###############################################################################\n",
            "###############################################################################\n",
            "Previous tokens: List < Tuple <\n",
            "Suggestion: List < Tuple <.\n",
            "\n",
            " \n",
            "###############################################################################\n",
            "###############################################################################\n",
            "Previous tokens: catch ( Exception ex\n",
            "Suggestion: catch ( Exception ex \"foo.exe \", so we need to ensure that if\n",
            "                // args is empty, we just run \"foo.exe\"\n",
            " \n",
            "###############################################################################\n",
            "###############################################################################\n",
            "Previous tokens: try { Calculate (\n",
            "Suggestion: try { Calculate (var path in System.Environment.GetEnvironmentVariable(\"PATH\").Split(Path.PathSeparator))\n",
            "                    {\n",
            " \n",
            "###############################################################################\n",
            "###############################################################################\n",
            "Previous tokens: get ; set ;\n",
            "Suggestion: get ; set ;.\n",
            "\n",
            " \n",
            "###############################################################################\n",
            "###############################################################################\n",
            "Previous tokens: new Car { Company\n",
            "Suggestion: new Car { Company\n",
            "            return Create(executable, ArgumentEscaper.EscapeAndConcatenateArgArrayForProcessStart(args));\n",
            " \n",
            "###############################################################################\n",
            "###############################################################################\n",
            "Previous tokens: Proxy ( RealSubject realSubject\n",
            "Suggestion: Proxy ( RealSubject realSubject \"foo.exe \", so we need to ensure that if\n",
            "                // args is empty, we just run \"foo.exe\"\n",
            " \n",
            "###############################################################################\n",
            "###############################################################################\n",
            "Previous tokens: this . LogAccess (\n",
            "Suggestion: this. LogAccess (\n",
            "\n",
            " \n",
            "###############################################################################\n",
            "###############################################################################\n",
            "Previous tokens: IHandler SetNext ( IHandler\n",
            "Suggestion: IHandler SetNext ( IHandler to\n",
            "\n",
            " \n",
            "###############################################################################\n",
            "###############################################################################\n",
            "Previous tokens: foreach ( var item\n",
            "Suggestion: foreach ( var item = ShouldUseCmd(executable);\n",
            "\n",
            " \n",
            "###############################################################################\n",
            "###############################################################################\n",
            "Previous tokens: do while { c\n",
            "Suggestion: do while { c\n",
            "            return Create(executable, ArgumentEscaper.EscapeAndConcatenateArgArrayForProcessStart(args));\n",
            " \n",
            "###############################################################################\n",
            "###############################################################################\n",
            "Previous tokens: while ( true )\n",
            "Suggestion: while ( true ) to\n",
            "\n",
            " \n",
            "###############################################################################\n",
            "###############################################################################\n",
            "Previous tokens: private string _payload =\n",
            "Suggestion: private string _payload = ShouldUseCmd(executable);\n",
            "\n",
            " \n",
            "###############################################################################\n",
            "###############################################################################\n",
            "Previous tokens: this . _a =\n",
            "Suggestion: this. _a = ShouldUseCmd(executable);\n",
            "\n",
            " \n",
            "###############################################################################\n",
            "###############################################################################\n",
            "Previous tokens: IEnumerator . Current =>\n",
            "Suggestion: IEnumerator. Current =>NET Foundation licenses this file to you under the MIT license.\n",
            "\n",
            " \n",
            "###############################################################################\n",
            "###############################################################################\n",
            "Previous tokens: GetEnumerator ( string t\n",
            "Suggestion: GetEnumerator ( string tstring executable, params string[] args)\n",
            "        {\n",
            " \n",
            "###############################################################################\n",
            "###############################################################################\n",
            "Previous tokens: public override bool M\n",
            "Suggestion: public override bool M.\n",
            "\n",
            " \n",
            "###############################################################################\n",
            "###############################################################################\n",
            "Previous tokens: public virtual bool M\n",
            "Suggestion: public virtual bool M.\n",
            "\n",
            " \n",
            "###############################################################################\n"
          ]
        }
      ]
    }
  ]
}